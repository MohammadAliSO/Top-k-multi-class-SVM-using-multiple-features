{
  "cells": [
    {
      "cell_type": "code",
      "execution_count": 1,
      "metadata": {
        "id": "VgPd1fjcOKlg"
      },
      "outputs": [
        {
          "ename": "ModuleNotFoundError",
          "evalue": "No module named 'sklearn'",
          "output_type": "error",
          "traceback": [
            "\u001b[1;31m---------------------------------------------------------------------------\u001b[0m",
            "\u001b[1;31mModuleNotFoundError\u001b[0m                       Traceback (most recent call last)",
            "Cell \u001b[1;32mIn[1], line 2\u001b[0m\n\u001b[0;32m      1\u001b[0m \u001b[38;5;28;01mimport\u001b[39;00m \u001b[38;5;21;01mpandas\u001b[39;00m \u001b[38;5;28;01mas\u001b[39;00m \u001b[38;5;21;01mpd\u001b[39;00m\n\u001b[1;32m----> 2\u001b[0m \u001b[38;5;28;01mfrom\u001b[39;00m \u001b[38;5;21;01msklearn\u001b[39;00m \u001b[38;5;28;01mimport\u001b[39;00m svm\n\u001b[0;32m      3\u001b[0m \u001b[38;5;28;01mimport\u001b[39;00m \u001b[38;5;21;01mlibsvm\u001b[39;00m  \u001b[38;5;28;01mas\u001b[39;00m \u001b[38;5;21;01mls\u001b[39;00m\n\u001b[0;32m      4\u001b[0m \u001b[38;5;28;01mfrom\u001b[39;00m \u001b[38;5;21;01msklearn\u001b[39;00m\u001b[38;5;21;01m.\u001b[39;00m\u001b[38;5;21;01mmodel_selection\u001b[39;00m \u001b[38;5;28;01mimport\u001b[39;00m GridSearchCV\n",
            "\u001b[1;31mModuleNotFoundError\u001b[0m: No module named 'sklearn'"
          ]
        }
      ],
      "source": [
        "\n",
        "import pandas as pd\n",
        "from sklearn import svm\n",
        "import libsvm  as ls\n",
        "from sklearn.model_selection import GridSearchCV\n",
        "import os\n",
        "import matplotlib.pyplot as plt\n",
        "from skimage.transform import resize\n",
        "from skimage.io import imread\n",
        "import numpy as np\n",
        "from sklearn.model_selection import train_test_split\n",
        "from sklearn.metrics import classification_report,accuracy_score,confusion_matrix\n",
        "from sklearn.metrics import top_k_accuracy_score\n"
      ]
    },
    {
      "cell_type": "markdown",
      "metadata": {
        "id": "i8zhtW8yz34D"
      },
      "source": [
        "**NOTE** : Please enter Category Names same as folder name"
      ]
    },
    {
      "cell_type": "code",
      "execution_count": 2,
      "metadata": {
        "colab": {
          "base_uri": "https://localhost:8080/"
        },
        "id": "umZtNj4CTllG",
        "outputId": "6bd8a057-f089-41e9-e55e-ef7d8fe47639"
      },
      "outputs": [],
      "source": [
        "Categories=['ant','beaver', 'cup','ewer', 'lamp','pizza', 'rhino','elephant','dolphin','crab']\n"
      ]
    },
    {
      "cell_type": "code",
      "execution_count": 3,
      "metadata": {},
      "outputs": [],
      "source": [
        "# main_folder_path = './data/caltech-101/101_ObjectCategories'\n",
        "\n",
        "# Categories = os.listdir(main_folder_path)\n",
        "# Categories"
      ]
    },
    {
      "cell_type": "code",
      "execution_count": 4,
      "metadata": {},
      "outputs": [
        {
          "name": "stdout",
          "output_type": "stream",
          "text": [
            "loading... category : ant\n",
            "loaded category:ant successfully\n",
            "loading... category : beaver\n",
            "loaded category:beaver successfully\n",
            "loading... category : cup\n",
            "loaded category:cup successfully\n",
            "loading... category : ewer\n",
            "loaded category:ewer successfully\n",
            "loading... category : lamp\n",
            "loaded category:lamp successfully\n",
            "loading... category : pizza\n",
            "loaded category:pizza successfully\n",
            "loading... category : rhino\n",
            "loaded category:rhino successfully\n",
            "loading... category : elephant\n",
            "loaded category:elephant successfully\n",
            "loading... category : dolphin\n",
            "loaded category:dolphin successfully\n",
            "loading... category : crab\n",
            "loaded category:crab successfully\n"
          ]
        },
        {
          "data": {
            "text/html": [
              "<div>\n",
              "<style scoped>\n",
              "    .dataframe tbody tr th:only-of-type {\n",
              "        vertical-align: middle;\n",
              "    }\n",
              "\n",
              "    .dataframe tbody tr th {\n",
              "        vertical-align: top;\n",
              "    }\n",
              "\n",
              "    .dataframe thead th {\n",
              "        text-align: right;\n",
              "    }\n",
              "</style>\n",
              "<table border=\"1\" class=\"dataframe\">\n",
              "  <thead>\n",
              "    <tr style=\"text-align: right;\">\n",
              "      <th></th>\n",
              "      <th>0</th>\n",
              "      <th>1</th>\n",
              "      <th>2</th>\n",
              "      <th>3</th>\n",
              "      <th>4</th>\n",
              "      <th>5</th>\n",
              "      <th>6</th>\n",
              "      <th>7</th>\n",
              "      <th>8</th>\n",
              "      <th>9</th>\n",
              "      <th>...</th>\n",
              "      <th>2691</th>\n",
              "      <th>2692</th>\n",
              "      <th>2693</th>\n",
              "      <th>2694</th>\n",
              "      <th>2695</th>\n",
              "      <th>2696</th>\n",
              "      <th>2697</th>\n",
              "      <th>2698</th>\n",
              "      <th>2699</th>\n",
              "      <th>Target</th>\n",
              "    </tr>\n",
              "  </thead>\n",
              "  <tbody>\n",
              "    <tr>\n",
              "      <th>0</th>\n",
              "      <td>9.809019e-02</td>\n",
              "      <td>0.102507</td>\n",
              "      <td>0.188686</td>\n",
              "      <td>9.871258e-02</td>\n",
              "      <td>1.051867e-01</td>\n",
              "      <td>1.878433e-01</td>\n",
              "      <td>0.114509</td>\n",
              "      <td>0.123648</td>\n",
              "      <td>0.177509</td>\n",
              "      <td>3.254690e-01</td>\n",
              "      <td>...</td>\n",
              "      <td>0.646957</td>\n",
              "      <td>0.610431</td>\n",
              "      <td>0.612689</td>\n",
              "      <td>0.649940</td>\n",
              "      <td>0.602855</td>\n",
              "      <td>0.611951</td>\n",
              "      <td>6.427757e-01</td>\n",
              "      <td>0.595683</td>\n",
              "      <td>0.603774</td>\n",
              "      <td>0</td>\n",
              "    </tr>\n",
              "    <tr>\n",
              "      <th>1</th>\n",
              "      <td>5.801917e-08</td>\n",
              "      <td>0.000014</td>\n",
              "      <td>0.000020</td>\n",
              "      <td>2.030937e-04</td>\n",
              "      <td>9.159553e-04</td>\n",
              "      <td>8.900180e-04</td>\n",
              "      <td>0.015372</td>\n",
              "      <td>0.018944</td>\n",
              "      <td>0.018630</td>\n",
              "      <td>1.197845e-01</td>\n",
              "      <td>...</td>\n",
              "      <td>0.007819</td>\n",
              "      <td>0.009301</td>\n",
              "      <td>0.005415</td>\n",
              "      <td>0.000046</td>\n",
              "      <td>0.000077</td>\n",
              "      <td>0.000121</td>\n",
              "      <td>8.264312e-08</td>\n",
              "      <td>0.000005</td>\n",
              "      <td>0.000002</td>\n",
              "      <td>0</td>\n",
              "    </tr>\n",
              "    <tr>\n",
              "      <th>2</th>\n",
              "      <td>0.000000e+00</td>\n",
              "      <td>0.000000</td>\n",
              "      <td>0.000000</td>\n",
              "      <td>0.000000e+00</td>\n",
              "      <td>0.000000e+00</td>\n",
              "      <td>0.000000e+00</td>\n",
              "      <td>0.000000</td>\n",
              "      <td>0.000000</td>\n",
              "      <td>0.000000</td>\n",
              "      <td>1.875051e-09</td>\n",
              "      <td>...</td>\n",
              "      <td>0.000000</td>\n",
              "      <td>0.000000</td>\n",
              "      <td>0.000000</td>\n",
              "      <td>0.000000</td>\n",
              "      <td>0.000000</td>\n",
              "      <td>0.000000</td>\n",
              "      <td>0.000000e+00</td>\n",
              "      <td>0.000000</td>\n",
              "      <td>0.000000</td>\n",
              "      <td>0</td>\n",
              "    </tr>\n",
              "    <tr>\n",
              "      <th>3</th>\n",
              "      <td>1.635179e-01</td>\n",
              "      <td>0.300259</td>\n",
              "      <td>0.237979</td>\n",
              "      <td>2.105695e-01</td>\n",
              "      <td>4.652854e-01</td>\n",
              "      <td>3.364635e-01</td>\n",
              "      <td>0.215489</td>\n",
              "      <td>0.469478</td>\n",
              "      <td>0.338418</td>\n",
              "      <td>2.154944e-01</td>\n",
              "      <td>...</td>\n",
              "      <td>0.208688</td>\n",
              "      <td>0.469678</td>\n",
              "      <td>0.341051</td>\n",
              "      <td>0.207696</td>\n",
              "      <td>0.463160</td>\n",
              "      <td>0.336624</td>\n",
              "      <td>1.672291e-01</td>\n",
              "      <td>0.302272</td>\n",
              "      <td>0.226954</td>\n",
              "      <td>0</td>\n",
              "    </tr>\n",
              "    <tr>\n",
              "      <th>4</th>\n",
              "      <td>0.000000e+00</td>\n",
              "      <td>0.000000</td>\n",
              "      <td>0.000000</td>\n",
              "      <td>6.592130e-07</td>\n",
              "      <td>6.592130e-07</td>\n",
              "      <td>6.592130e-07</td>\n",
              "      <td>0.002352</td>\n",
              "      <td>0.002352</td>\n",
              "      <td>0.002352</td>\n",
              "      <td>1.957863e-01</td>\n",
              "      <td>...</td>\n",
              "      <td>0.001977</td>\n",
              "      <td>0.001977</td>\n",
              "      <td>0.001977</td>\n",
              "      <td>0.000002</td>\n",
              "      <td>0.000002</td>\n",
              "      <td>0.000002</td>\n",
              "      <td>0.000000e+00</td>\n",
              "      <td>0.000000</td>\n",
              "      <td>0.000000</td>\n",
              "      <td>0</td>\n",
              "    </tr>\n",
              "    <tr>\n",
              "      <th>...</th>\n",
              "      <td>...</td>\n",
              "      <td>...</td>\n",
              "      <td>...</td>\n",
              "      <td>...</td>\n",
              "      <td>...</td>\n",
              "      <td>...</td>\n",
              "      <td>...</td>\n",
              "      <td>...</td>\n",
              "      <td>...</td>\n",
              "      <td>...</td>\n",
              "      <td>...</td>\n",
              "      <td>...</td>\n",
              "      <td>...</td>\n",
              "      <td>...</td>\n",
              "      <td>...</td>\n",
              "      <td>...</td>\n",
              "      <td>...</td>\n",
              "      <td>...</td>\n",
              "      <td>...</td>\n",
              "      <td>...</td>\n",
              "      <td>...</td>\n",
              "    </tr>\n",
              "    <tr>\n",
              "      <th>600</th>\n",
              "      <td>4.758968e-01</td>\n",
              "      <td>0.247862</td>\n",
              "      <td>0.484286</td>\n",
              "      <td>5.022639e-01</td>\n",
              "      <td>2.811836e-01</td>\n",
              "      <td>5.152581e-01</td>\n",
              "      <td>0.486386</td>\n",
              "      <td>0.285039</td>\n",
              "      <td>0.523255</td>\n",
              "      <td>4.946682e-01</td>\n",
              "      <td>...</td>\n",
              "      <td>0.419105</td>\n",
              "      <td>0.496122</td>\n",
              "      <td>0.517652</td>\n",
              "      <td>0.312572</td>\n",
              "      <td>0.393984</td>\n",
              "      <td>0.434915</td>\n",
              "      <td>1.530300e-01</td>\n",
              "      <td>0.223305</td>\n",
              "      <td>0.243674</td>\n",
              "      <td>9</td>\n",
              "    </tr>\n",
              "    <tr>\n",
              "      <th>601</th>\n",
              "      <td>1.284211e-01</td>\n",
              "      <td>0.165072</td>\n",
              "      <td>0.205863</td>\n",
              "      <td>1.664843e-01</td>\n",
              "      <td>2.054430e-01</td>\n",
              "      <td>2.381510e-01</td>\n",
              "      <td>0.204826</td>\n",
              "      <td>0.247424</td>\n",
              "      <td>0.268128</td>\n",
              "      <td>2.117930e-01</td>\n",
              "      <td>...</td>\n",
              "      <td>0.269100</td>\n",
              "      <td>0.261999</td>\n",
              "      <td>0.251272</td>\n",
              "      <td>0.167006</td>\n",
              "      <td>0.217366</td>\n",
              "      <td>0.229693</td>\n",
              "      <td>1.554699e-01</td>\n",
              "      <td>0.208980</td>\n",
              "      <td>0.222792</td>\n",
              "      <td>9</td>\n",
              "    </tr>\n",
              "    <tr>\n",
              "      <th>602</th>\n",
              "      <td>1.808395e-01</td>\n",
              "      <td>0.670036</td>\n",
              "      <td>0.922359</td>\n",
              "      <td>1.734240e-01</td>\n",
              "      <td>6.508871e-01</td>\n",
              "      <td>8.980753e-01</td>\n",
              "      <td>0.175239</td>\n",
              "      <td>0.609393</td>\n",
              "      <td>0.830403</td>\n",
              "      <td>1.875628e-01</td>\n",
              "      <td>...</td>\n",
              "      <td>0.197551</td>\n",
              "      <td>0.662593</td>\n",
              "      <td>0.903688</td>\n",
              "      <td>0.177837</td>\n",
              "      <td>0.670540</td>\n",
              "      <td>0.923457</td>\n",
              "      <td>1.676727e-01</td>\n",
              "      <td>0.672826</td>\n",
              "      <td>0.917277</td>\n",
              "      <td>9</td>\n",
              "    </tr>\n",
              "    <tr>\n",
              "      <th>603</th>\n",
              "      <td>2.542317e-01</td>\n",
              "      <td>0.310003</td>\n",
              "      <td>0.314955</td>\n",
              "      <td>2.524143e-01</td>\n",
              "      <td>3.019822e-01</td>\n",
              "      <td>2.852427e-01</td>\n",
              "      <td>0.407613</td>\n",
              "      <td>0.437538</td>\n",
              "      <td>0.392011</td>\n",
              "      <td>4.551463e-01</td>\n",
              "      <td>...</td>\n",
              "      <td>0.282428</td>\n",
              "      <td>0.348818</td>\n",
              "      <td>0.389705</td>\n",
              "      <td>0.322992</td>\n",
              "      <td>0.332780</td>\n",
              "      <td>0.350641</td>\n",
              "      <td>1.617047e-01</td>\n",
              "      <td>0.185950</td>\n",
              "      <td>0.192772</td>\n",
              "      <td>9</td>\n",
              "    </tr>\n",
              "    <tr>\n",
              "      <th>604</th>\n",
              "      <td>6.344010e-01</td>\n",
              "      <td>0.769249</td>\n",
              "      <td>0.773051</td>\n",
              "      <td>6.362124e-01</td>\n",
              "      <td>7.694328e-01</td>\n",
              "      <td>7.776095e-01</td>\n",
              "      <td>0.637188</td>\n",
              "      <td>0.768719</td>\n",
              "      <td>0.783525</td>\n",
              "      <td>6.314066e-01</td>\n",
              "      <td>...</td>\n",
              "      <td>0.669289</td>\n",
              "      <td>0.749115</td>\n",
              "      <td>0.737641</td>\n",
              "      <td>0.662998</td>\n",
              "      <td>0.741602</td>\n",
              "      <td>0.737376</td>\n",
              "      <td>6.670484e-01</td>\n",
              "      <td>0.739352</td>\n",
              "      <td>0.736740</td>\n",
              "      <td>9</td>\n",
              "    </tr>\n",
              "  </tbody>\n",
              "</table>\n",
              "<p>605 rows × 2701 columns</p>\n",
              "</div>"
            ],
            "text/plain": [
              "                0         1         2             3             4  \\\n",
              "0    9.809019e-02  0.102507  0.188686  9.871258e-02  1.051867e-01   \n",
              "1    5.801917e-08  0.000014  0.000020  2.030937e-04  9.159553e-04   \n",
              "2    0.000000e+00  0.000000  0.000000  0.000000e+00  0.000000e+00   \n",
              "3    1.635179e-01  0.300259  0.237979  2.105695e-01  4.652854e-01   \n",
              "4    0.000000e+00  0.000000  0.000000  6.592130e-07  6.592130e-07   \n",
              "..            ...       ...       ...           ...           ...   \n",
              "600  4.758968e-01  0.247862  0.484286  5.022639e-01  2.811836e-01   \n",
              "601  1.284211e-01  0.165072  0.205863  1.664843e-01  2.054430e-01   \n",
              "602  1.808395e-01  0.670036  0.922359  1.734240e-01  6.508871e-01   \n",
              "603  2.542317e-01  0.310003  0.314955  2.524143e-01  3.019822e-01   \n",
              "604  6.344010e-01  0.769249  0.773051  6.362124e-01  7.694328e-01   \n",
              "\n",
              "                5         6         7         8             9  ...      2691  \\\n",
              "0    1.878433e-01  0.114509  0.123648  0.177509  3.254690e-01  ...  0.646957   \n",
              "1    8.900180e-04  0.015372  0.018944  0.018630  1.197845e-01  ...  0.007819   \n",
              "2    0.000000e+00  0.000000  0.000000  0.000000  1.875051e-09  ...  0.000000   \n",
              "3    3.364635e-01  0.215489  0.469478  0.338418  2.154944e-01  ...  0.208688   \n",
              "4    6.592130e-07  0.002352  0.002352  0.002352  1.957863e-01  ...  0.001977   \n",
              "..            ...       ...       ...       ...           ...  ...       ...   \n",
              "600  5.152581e-01  0.486386  0.285039  0.523255  4.946682e-01  ...  0.419105   \n",
              "601  2.381510e-01  0.204826  0.247424  0.268128  2.117930e-01  ...  0.269100   \n",
              "602  8.980753e-01  0.175239  0.609393  0.830403  1.875628e-01  ...  0.197551   \n",
              "603  2.852427e-01  0.407613  0.437538  0.392011  4.551463e-01  ...  0.282428   \n",
              "604  7.776095e-01  0.637188  0.768719  0.783525  6.314066e-01  ...  0.669289   \n",
              "\n",
              "         2692      2693      2694      2695      2696          2697      2698  \\\n",
              "0    0.610431  0.612689  0.649940  0.602855  0.611951  6.427757e-01  0.595683   \n",
              "1    0.009301  0.005415  0.000046  0.000077  0.000121  8.264312e-08  0.000005   \n",
              "2    0.000000  0.000000  0.000000  0.000000  0.000000  0.000000e+00  0.000000   \n",
              "3    0.469678  0.341051  0.207696  0.463160  0.336624  1.672291e-01  0.302272   \n",
              "4    0.001977  0.001977  0.000002  0.000002  0.000002  0.000000e+00  0.000000   \n",
              "..        ...       ...       ...       ...       ...           ...       ...   \n",
              "600  0.496122  0.517652  0.312572  0.393984  0.434915  1.530300e-01  0.223305   \n",
              "601  0.261999  0.251272  0.167006  0.217366  0.229693  1.554699e-01  0.208980   \n",
              "602  0.662593  0.903688  0.177837  0.670540  0.923457  1.676727e-01  0.672826   \n",
              "603  0.348818  0.389705  0.322992  0.332780  0.350641  1.617047e-01  0.185950   \n",
              "604  0.749115  0.737641  0.662998  0.741602  0.737376  6.670484e-01  0.739352   \n",
              "\n",
              "         2699  Target  \n",
              "0    0.603774       0  \n",
              "1    0.000002       0  \n",
              "2    0.000000       0  \n",
              "3    0.226954       0  \n",
              "4    0.000000       0  \n",
              "..        ...     ...  \n",
              "600  0.243674       9  \n",
              "601  0.222792       9  \n",
              "602  0.917277       9  \n",
              "603  0.192772       9  \n",
              "604  0.736740       9  \n",
              "\n",
              "[605 rows x 2701 columns]"
            ]
          },
          "execution_count": 4,
          "metadata": {},
          "output_type": "execute_result"
        }
      ],
      "source": [
        "\n",
        "flat_data_arr=[]\n",
        "target_arr=[]\n",
        "\n",
        "datadir='./data/caltech-101/101_ObjectCategories' \n",
        "for i in Categories:\n",
        "  print(f'loading... category : {i}')\n",
        "  path=os.path.join(datadir,i)\n",
        "  for img in os.listdir(path):\n",
        "    img_array=imread(os.path.join(path,img))\n",
        "    img_resized=resize(img_array,(30,30,3))\n",
        "    flat_data_arr.append(img_resized.flatten())\n",
        "    target_arr.append(Categories.index(i))\n",
        "  print(f'loaded category:{i} successfully')\n",
        "flat_data=np.array(flat_data_arr)\n",
        "target=np.array(target_arr)\n",
        "df=pd.DataFrame(flat_data)\n",
        "df['Target']=target\n",
        "df"
      ]
    },
    {
      "cell_type": "code",
      "execution_count": 5,
      "metadata": {},
      "outputs": [],
      "source": [
        "k=5"
      ]
    },
    {
      "cell_type": "markdown",
      "metadata": {},
      "source": [
        "## LIBSVM"
      ]
    },
    {
      "cell_type": "code",
      "execution_count": 6,
      "metadata": {},
      "outputs": [
        {
          "name": "stdout",
          "output_type": "stream",
          "text": [
            "Splitted Successfully\n"
          ]
        }
      ],
      "source": [
        "x=df.iloc[:,:-1]\n",
        "y=df.iloc[:,-1]\n",
        "x_train,x_test,y_train,y_test=train_test_split(x,y,test_size=0.20,random_state=77,stratify=y)\n",
        "print('Splitted Successfully')"
      ]
    },
    {
      "cell_type": "code",
      "execution_count": 7,
      "metadata": {},
      "outputs": [
        {
          "name": "stdout",
          "output_type": "stream",
          "text": [
            "The training of the model is started, please wait for while as it may take few minutes to complete\n"
          ]
        },
        {
          "name": "stdout",
          "output_type": "stream",
          "text": [
            "The Model is trained well with the given images\n"
          ]
        },
        {
          "data": {
            "text/plain": [
              "{'C': 100, 'gamma': 0.001, 'kernel': 'rbf'}"
            ]
          },
          "execution_count": 7,
          "metadata": {},
          "output_type": "execute_result"
        }
      ],
      "source": [
        "param_grid={'C':[0.1,1,10,100],'gamma':[0.0001,0.001,0.1,1],'kernel':['rbf' ,'poly']}\n",
        "svc=svm.SVC(probability=True)\n",
        "print(\"The training of the model is started, please wait for while as it may take few minutes to complete\")\n",
        "model=GridSearchCV(svc,param_grid)\n",
        "model. fit(x_train,y_train)\n",
        "print('The Model is trained well with the given images')\n",
        "model.best_params_"
      ]
    },
    {
      "cell_type": "code",
      "execution_count": 8,
      "metadata": {},
      "outputs": [
        {
          "name": "stdout",
          "output_type": "stream",
          "text": [
            "The predicted Data is :\n"
          ]
        },
        {
          "data": {
            "text/plain": [
              "array([0, 3, 3, 2, 9, 1, 8, 2, 5, 3, 9, 4, 4, 8, 1, 3, 9, 6, 1, 4, 3, 7,\n",
              "       3, 5, 7, 7, 3, 5, 3, 3, 7, 1, 1, 0, 4, 8, 9, 9, 6, 6, 9, 9, 8, 7,\n",
              "       3, 5, 4, 7, 5, 7, 9, 8, 7, 6, 9, 3, 9, 9, 1, 8, 4, 6, 3, 2, 3, 3,\n",
              "       0, 8, 2, 2, 8, 8, 5, 3, 7, 2, 3, 8, 4, 1, 9, 8, 1, 8, 8, 5, 7, 2,\n",
              "       3, 7, 5, 6, 5, 1, 9, 3, 9, 8, 3, 0, 3, 9, 2, 1, 6, 2, 6, 6, 1, 4,\n",
              "       4, 3, 2, 2, 7, 5, 0, 6, 6, 9, 6])"
            ]
          },
          "execution_count": 8,
          "metadata": {},
          "output_type": "execute_result"
        }
      ],
      "source": [
        "y_pred=model.predict(x_test)\n",
        "print(\"The predicted Data is :\")\n",
        "y_pred"
      ]
    },
    {
      "cell_type": "code",
      "execution_count": 9,
      "metadata": {},
      "outputs": [
        {
          "name": "stdout",
          "output_type": "stream",
          "text": [
            "The actual data is:\n"
          ]
        },
        {
          "data": {
            "text/plain": [
              "array([0, 3, 3, 4, 9, 1, 8, 0, 5, 7, 9, 4, 4, 8, 2, 3, 3, 9, 0, 2, 2, 1,\n",
              "       4, 5, 7, 7, 2, 5, 6, 3, 6, 1, 1, 4, 7, 8, 9, 4, 7, 6, 6, 9, 3, 7,\n",
              "       1, 5, 7, 3, 5, 1, 2, 8, 7, 8, 1, 3, 5, 2, 3, 4, 4, 6, 2, 8, 3, 2,\n",
              "       3, 8, 9, 9, 8, 8, 5, 3, 4, 2, 3, 8, 6, 1, 9, 7, 0, 8, 8, 5, 6, 2,\n",
              "       3, 7, 5, 9, 9, 9, 6, 3, 1, 0, 3, 0, 7, 9, 0, 2, 6, 6, 7, 0, 8, 4,\n",
              "       4, 4, 9, 3, 9, 5, 5, 7, 6, 9, 6])"
            ]
          },
          "execution_count": 9,
          "metadata": {},
          "output_type": "execute_result"
        }
      ],
      "source": [
        "print(\"The actual data is:\")\n",
        "np.array(y_test)"
      ]
    },
    {
      "cell_type": "code",
      "execution_count": 10,
      "metadata": {},
      "outputs": [
        {
          "name": "stdout",
          "output_type": "stream",
          "text": [
            "The model is 49.586776859504134% accurate\n"
          ]
        }
      ],
      "source": [
        "\n",
        "print(f\"The model is {accuracy_score(y_pred,y_test)*100}% accurate\")\n"
      ]
    },
    {
      "cell_type": "code",
      "execution_count": 11,
      "metadata": {},
      "outputs": [
        {
          "data": {
            "text/plain": [
              "array([[ 9.30687009,  1.73460614,  6.28341803, ...,  3.73952817,\n",
              "         8.27564737,  7.26032825],\n",
              "       [ 6.25815813,  3.7687932 ,  8.29003597, ..., -0.30271537,\n",
              "         7.24365638,  0.7121095 ],\n",
              "       [ 3.80018816,  7.27316067,  2.73934354, ...,  5.17115197,\n",
              "         1.73983324,  8.28378825],\n",
              "       ...,\n",
              "       [ 6.20114644,  7.2690514 ,  2.83609312, ...,  8.28676746,\n",
              "         1.73171137,  5.1283624 ],\n",
              "       [ 6.25075235,  7.27440517,  1.75306375, ...,  3.82674246,\n",
              "         1.73360185,  9.29813342],\n",
              "       [ 5.18233537,  6.21548165,  0.71348264, ...,  8.3003468 ,\n",
              "         0.699525  ,  7.28368714]])"
            ]
          },
          "execution_count": 11,
          "metadata": {},
          "output_type": "execute_result"
        }
      ],
      "source": [
        "decision_scores = model.decision_function(x_test)\n",
        "decision_scores"
      ]
    },
    {
      "cell_type": "code",
      "execution_count": 12,
      "metadata": {},
      "outputs": [
        {
          "name": "stdout",
          "output_type": "stream",
          "text": [
            "The model is 89.25619834710744% accurate for k= 5\n"
          ]
        }
      ],
      "source": [
        "top_k_predict = top_k_accuracy_score(y_test, decision_scores, k=k)\n",
        "print(f\"The model is {top_k_predict*100}% accurate for k= {k}\")\n"
      ]
    },
    {
      "cell_type": "markdown",
      "metadata": {},
      "source": [
        "#   SVM Kernel"
      ]
    },
    {
      "cell_type": "markdown",
      "metadata": {},
      "source": [
        "Loading all the images and creating a DataFrame\n",
        "\n",
        "If you have your images in your google drive, simply mount the google Drive and copy the path of the folder containing all the Category images and Change the datadir variable to that path"
      ]
    },
    {
      "cell_type": "markdown",
      "metadata": {
        "id": "gUp5FDqIY070"
      },
      "source": [
        "Splitting the data into training and testing data"
      ]
    },
    {
      "cell_type": "code",
      "execution_count": 13,
      "metadata": {},
      "outputs": [],
      "source": [
        "decision_scores_arr = []"
      ]
    },
    {
      "cell_type": "code",
      "execution_count": 14,
      "metadata": {
        "colab": {
          "base_uri": "https://localhost:8080/"
        },
        "id": "Jg3XHRP3OUyf",
        "outputId": "f9f0a456-8a4c-45e6-9b01-509d753139f2"
      },
      "outputs": [
        {
          "name": "stdout",
          "output_type": "stream",
          "text": [
            "Splitted Successfully\n"
          ]
        }
      ],
      "source": [
        "x=df.iloc[:,:-1]\n",
        "y=df.iloc[:,-1]\n",
        "x_train,x_test,y_train,y_test=train_test_split(x,y,test_size=0.20,random_state=77,stratify=y)\n",
        "print('Splitted Successfully')"
      ]
    },
    {
      "cell_type": "code",
      "execution_count": 15,
      "metadata": {
        "colab": {
          "base_uri": "https://localhost:8080/"
        },
        "id": "DIaIT2GlOvy6",
        "outputId": "47a22b93-17d2-4f2a-fb1f-a0e355551852"
      },
      "outputs": [
        {
          "name": "stdout",
          "output_type": "stream",
          "text": [
            "The training of the model is started, please wait for while as it may take few minutes to complete\n"
          ]
        },
        {
          "name": "stdout",
          "output_type": "stream",
          "text": [
            "The Model is trained well with the given images\n"
          ]
        },
        {
          "data": {
            "text/plain": [
              "{'C': 100, 'gamma': 0.001, 'kernel': 'rbf'}"
            ]
          },
          "execution_count": 15,
          "metadata": {},
          "output_type": "execute_result"
        }
      ],
      "source": [
        "param_grid={'C':[0.1,1,10,100],'gamma':[0.0001,0.001,0.1,1],'kernel':['rbf' ,'poly']}\n",
        "svc=svm.SVC(probability=True)\n",
        "print(\"The training of the model is started, please wait for while as it may take few minutes to complete\")\n",
        "model=GridSearchCV(svc,param_grid)\n",
        "model.fit(x_train,y_train)\n",
        "print('The Model is trained well with the given images')\n",
        "model.best_params_"
      ]
    },
    {
      "cell_type": "markdown",
      "metadata": {
        "id": "VWKN2_4eZZmF"
      },
      "source": [
        "Predicting our testing data"
      ]
    },
    {
      "cell_type": "code",
      "execution_count": 16,
      "metadata": {
        "colab": {
          "base_uri": "https://localhost:8080/"
        },
        "id": "h7qEbNLoSAcS",
        "outputId": "3c93b66c-9202-42ee-ae30-5cadea7f00ef"
      },
      "outputs": [
        {
          "name": "stdout",
          "output_type": "stream",
          "text": [
            "The predicted Data is :\n"
          ]
        },
        {
          "data": {
            "text/plain": [
              "array([0, 3, 3, 2, 9, 1, 8, 2, 5, 3, 9, 4, 4, 8, 1, 3, 9, 6, 1, 4, 3, 7,\n",
              "       3, 5, 7, 7, 3, 5, 3, 3, 7, 1, 1, 0, 4, 8, 9, 9, 6, 6, 9, 9, 8, 7,\n",
              "       3, 5, 4, 7, 5, 7, 9, 8, 7, 6, 9, 3, 9, 9, 1, 8, 4, 6, 3, 2, 3, 3,\n",
              "       0, 8, 2, 2, 8, 8, 5, 3, 7, 2, 3, 8, 4, 1, 9, 8, 1, 8, 8, 5, 7, 2,\n",
              "       3, 7, 5, 6, 5, 1, 9, 3, 9, 8, 3, 0, 3, 9, 2, 1, 6, 2, 6, 6, 1, 4,\n",
              "       4, 3, 2, 2, 7, 5, 0, 6, 6, 9, 6])"
            ]
          },
          "execution_count": 16,
          "metadata": {},
          "output_type": "execute_result"
        }
      ],
      "source": [
        "y_pred=model.predict(x_test)\n",
        "print(\"The predicted Data is :\")\n",
        "y_pred"
      ]
    },
    {
      "cell_type": "code",
      "execution_count": 17,
      "metadata": {},
      "outputs": [
        {
          "data": {
            "text/plain": [
              "array([[ 9.30687009,  1.73460614,  6.28341803, ...,  3.73952817,\n",
              "         8.27564737,  7.26032825],\n",
              "       [ 6.25815813,  3.7687932 ,  8.29003597, ..., -0.30271537,\n",
              "         7.24365638,  0.7121095 ],\n",
              "       [ 3.80018816,  7.27316067,  2.73934354, ...,  5.17115197,\n",
              "         1.73983324,  8.28378825],\n",
              "       ...,\n",
              "       [ 6.20114644,  7.2690514 ,  2.83609312, ...,  8.28676746,\n",
              "         1.73171137,  5.1283624 ],\n",
              "       [ 6.25075235,  7.27440517,  1.75306375, ...,  3.82674246,\n",
              "         1.73360185,  9.29813342],\n",
              "       [ 5.18233537,  6.21548165,  0.71348264, ...,  8.3003468 ,\n",
              "         0.699525  ,  7.28368714]])"
            ]
          },
          "execution_count": 17,
          "metadata": {},
          "output_type": "execute_result"
        }
      ],
      "source": [
        "decision_scores = model.decision_function(x_test)\n",
        "decision_scores_arr.append(('orginal', decision_scores))\n",
        "decision_scores"
      ]
    },
    {
      "cell_type": "code",
      "execution_count": 18,
      "metadata": {
        "colab": {
          "base_uri": "https://localhost:8080/"
        },
        "id": "A4rMJQ0HSCgU",
        "outputId": "c5a922e2-4c75-4f95-96e3-bf9d6c9a7089"
      },
      "outputs": [
        {
          "name": "stdout",
          "output_type": "stream",
          "text": [
            "The actual data is:\n"
          ]
        },
        {
          "data": {
            "text/plain": [
              "array([0, 3, 3, 4, 9, 1, 8, 0, 5, 7, 9, 4, 4, 8, 2, 3, 3, 9, 0, 2, 2, 1,\n",
              "       4, 5, 7, 7, 2, 5, 6, 3, 6, 1, 1, 4, 7, 8, 9, 4, 7, 6, 6, 9, 3, 7,\n",
              "       1, 5, 7, 3, 5, 1, 2, 8, 7, 8, 1, 3, 5, 2, 3, 4, 4, 6, 2, 8, 3, 2,\n",
              "       3, 8, 9, 9, 8, 8, 5, 3, 4, 2, 3, 8, 6, 1, 9, 7, 0, 8, 8, 5, 6, 2,\n",
              "       3, 7, 5, 9, 9, 9, 6, 3, 1, 0, 3, 0, 7, 9, 0, 2, 6, 6, 7, 0, 8, 4,\n",
              "       4, 4, 9, 3, 9, 5, 5, 7, 6, 9, 6])"
            ]
          },
          "execution_count": 18,
          "metadata": {},
          "output_type": "execute_result"
        }
      ],
      "source": [
        "print(\"The actual data is:\")\n",
        "np.array(y_test)"
      ]
    },
    {
      "cell_type": "code",
      "execution_count": 19,
      "metadata": {
        "colab": {
          "base_uri": "https://localhost:8080/"
        },
        "id": "ZwXKKc5FSFMf",
        "outputId": "d6c6e632-2585-4405-87b6-4b2321e41298"
      },
      "outputs": [
        {
          "name": "stdout",
          "output_type": "stream",
          "text": [
            "The model is 49.586776859504134% accurate\n"
          ]
        }
      ],
      "source": [
        "#classification_report(y_pred,y_test)\n",
        "print(f\"The model is {accuracy_score(y_pred,y_test)*100}% accurate\")\n",
        "#confusion_matrix(y_pred,y_test)"
      ]
    },
    {
      "cell_type": "code",
      "execution_count": 20,
      "metadata": {},
      "outputs": [
        {
          "name": "stdout",
          "output_type": "stream",
          "text": [
            "The model is 89.25619834710744% accurate for k= 5\n"
          ]
        }
      ],
      "source": [
        "top_k_predict = top_k_accuracy_score(y_test, decision_scores, k=k)\n",
        "print(f\"The model is {top_k_predict*100}% accurate for k= {k}\")\n"
      ]
    },
    {
      "cell_type": "markdown",
      "metadata": {},
      "source": [
        "# SVM with WM (Wavelet Moments) Image Filter "
      ]
    },
    {
      "cell_type": "code",
      "execution_count": 21,
      "metadata": {},
      "outputs": [],
      "source": [
        "import cv2\n",
        "import pywt\n",
        "from sklearn.metrics import hinge_loss\n"
      ]
    },
    {
      "cell_type": "code",
      "execution_count": 62,
      "metadata": {},
      "outputs": [],
      "source": [
        "n_feature_arr = []\n",
        "loss_v_arr = []\n",
        "df_arr = []"
      ]
    },
    {
      "cell_type": "code",
      "execution_count": 100,
      "metadata": {},
      "outputs": [],
      "source": [
        "def extract_wm_features(image):\n",
        "    gray_image = cv2.cvtColor(image, cv2.COLOR_BGR2GRAY)\n",
        "    \n",
        "    coeffs = pywt.wavedec2(gray_image, 'db1', level=4)\n",
        "    \n",
        "    wm_features = []\n",
        "    for level in range(1, len(coeffs)):\n",
        "        for direction in range(0, len(coeffs[level])):\n",
        "            wm = np.mean(np.abs(coeffs[level][direction]))\n",
        "            wm_features.append(wm)\n",
        "    \n",
        "    return np.array(wm_features)"
      ]
    },
    {
      "cell_type": "code",
      "execution_count": 120,
      "metadata": {},
      "outputs": [
        {
          "name": "stdout",
          "output_type": "stream",
          "text": [
            "loading... category : ant\n",
            "loaded category:ant successfully\n",
            "loading... category : beaver\n",
            "loaded category:beaver successfully\n",
            "loading... category : cup\n",
            "loaded category:cup successfully\n",
            "loading... category : ewer\n",
            "loaded category:ewer successfully\n",
            "loading... category : lamp\n",
            "loaded category:lamp successfully\n",
            "loading... category : pizza\n",
            "loaded category:pizza successfully\n",
            "loading... category : rhino\n",
            "loaded category:rhino successfully\n",
            "loading... category : elephant\n",
            "loaded category:elephant successfully\n",
            "loading... category : dolphin\n",
            "loaded category:dolphin successfully\n",
            "loading... category : crab\n",
            "loaded category:crab successfully\n"
          ]
        },
        {
          "data": {
            "text/html": [
              "<div>\n",
              "<style scoped>\n",
              "    .dataframe tbody tr th:only-of-type {\n",
              "        vertical-align: middle;\n",
              "    }\n",
              "\n",
              "    .dataframe tbody tr th {\n",
              "        vertical-align: top;\n",
              "    }\n",
              "\n",
              "    .dataframe thead th {\n",
              "        text-align: right;\n",
              "    }\n",
              "</style>\n",
              "<table border=\"1\" class=\"dataframe\">\n",
              "  <thead>\n",
              "    <tr style=\"text-align: right;\">\n",
              "      <th></th>\n",
              "      <th>0</th>\n",
              "      <th>1</th>\n",
              "      <th>2</th>\n",
              "      <th>3</th>\n",
              "      <th>4</th>\n",
              "      <th>5</th>\n",
              "      <th>6</th>\n",
              "      <th>7</th>\n",
              "      <th>8</th>\n",
              "      <th>9</th>\n",
              "      <th>10</th>\n",
              "      <th>11</th>\n",
              "      <th>Target</th>\n",
              "    </tr>\n",
              "  </thead>\n",
              "  <tbody>\n",
              "    <tr>\n",
              "      <th>0</th>\n",
              "      <td>167.715278</td>\n",
              "      <td>131.729167</td>\n",
              "      <td>122.576389</td>\n",
              "      <td>83.830</td>\n",
              "      <td>91.180</td>\n",
              "      <td>52.070</td>\n",
              "      <td>32.6850</td>\n",
              "      <td>35.9950</td>\n",
              "      <td>19.2550</td>\n",
              "      <td>11.49250</td>\n",
              "      <td>14.10250</td>\n",
              "      <td>8.59000</td>\n",
              "      <td>0</td>\n",
              "    </tr>\n",
              "    <tr>\n",
              "      <th>1</th>\n",
              "      <td>188.902778</td>\n",
              "      <td>126.027778</td>\n",
              "      <td>94.902778</td>\n",
              "      <td>99.790</td>\n",
              "      <td>95.180</td>\n",
              "      <td>47.120</td>\n",
              "      <td>40.5100</td>\n",
              "      <td>36.8250</td>\n",
              "      <td>25.0250</td>\n",
              "      <td>19.40500</td>\n",
              "      <td>15.96250</td>\n",
              "      <td>14.48500</td>\n",
              "      <td>0</td>\n",
              "    </tr>\n",
              "    <tr>\n",
              "      <th>2</th>\n",
              "      <td>210.312500</td>\n",
              "      <td>193.868056</td>\n",
              "      <td>30.020833</td>\n",
              "      <td>122.540</td>\n",
              "      <td>85.580</td>\n",
              "      <td>71.940</td>\n",
              "      <td>42.2800</td>\n",
              "      <td>32.8050</td>\n",
              "      <td>25.8550</td>\n",
              "      <td>22.47250</td>\n",
              "      <td>19.28500</td>\n",
              "      <td>17.64500</td>\n",
              "      <td>0</td>\n",
              "    </tr>\n",
              "    <tr>\n",
              "      <th>3</th>\n",
              "      <td>105.298611</td>\n",
              "      <td>64.298611</td>\n",
              "      <td>35.826389</td>\n",
              "      <td>120.080</td>\n",
              "      <td>83.940</td>\n",
              "      <td>39.750</td>\n",
              "      <td>57.3650</td>\n",
              "      <td>51.1100</td>\n",
              "      <td>17.4450</td>\n",
              "      <td>27.91000</td>\n",
              "      <td>27.14750</td>\n",
              "      <td>10.06250</td>\n",
              "      <td>0</td>\n",
              "    </tr>\n",
              "    <tr>\n",
              "      <th>4</th>\n",
              "      <td>294.013889</td>\n",
              "      <td>284.236111</td>\n",
              "      <td>116.805556</td>\n",
              "      <td>160.880</td>\n",
              "      <td>158.490</td>\n",
              "      <td>104.880</td>\n",
              "      <td>54.9800</td>\n",
              "      <td>53.5300</td>\n",
              "      <td>41.0750</td>\n",
              "      <td>24.59750</td>\n",
              "      <td>23.92500</td>\n",
              "      <td>20.87750</td>\n",
              "      <td>0</td>\n",
              "    </tr>\n",
              "    <tr>\n",
              "      <th>...</th>\n",
              "      <td>...</td>\n",
              "      <td>...</td>\n",
              "      <td>...</td>\n",
              "      <td>...</td>\n",
              "      <td>...</td>\n",
              "      <td>...</td>\n",
              "      <td>...</td>\n",
              "      <td>...</td>\n",
              "      <td>...</td>\n",
              "      <td>...</td>\n",
              "      <td>...</td>\n",
              "      <td>...</td>\n",
              "      <td>...</td>\n",
              "    </tr>\n",
              "    <tr>\n",
              "      <th>600</th>\n",
              "      <td>152.590278</td>\n",
              "      <td>112.493056</td>\n",
              "      <td>46.548611</td>\n",
              "      <td>92.935</td>\n",
              "      <td>99.305</td>\n",
              "      <td>69.005</td>\n",
              "      <td>47.4575</td>\n",
              "      <td>60.2475</td>\n",
              "      <td>38.0525</td>\n",
              "      <td>25.51875</td>\n",
              "      <td>28.75375</td>\n",
              "      <td>19.40875</td>\n",
              "      <td>9</td>\n",
              "    </tr>\n",
              "    <tr>\n",
              "      <th>601</th>\n",
              "      <td>84.444444</td>\n",
              "      <td>49.597222</td>\n",
              "      <td>44.513889</td>\n",
              "      <td>52.005</td>\n",
              "      <td>52.705</td>\n",
              "      <td>43.245</td>\n",
              "      <td>32.1825</td>\n",
              "      <td>52.0125</td>\n",
              "      <td>25.5025</td>\n",
              "      <td>19.10375</td>\n",
              "      <td>24.16625</td>\n",
              "      <td>17.54375</td>\n",
              "      <td>9</td>\n",
              "    </tr>\n",
              "    <tr>\n",
              "      <th>602</th>\n",
              "      <td>83.958333</td>\n",
              "      <td>96.930556</td>\n",
              "      <td>43.930556</td>\n",
              "      <td>73.900</td>\n",
              "      <td>85.620</td>\n",
              "      <td>43.880</td>\n",
              "      <td>42.6850</td>\n",
              "      <td>45.5400</td>\n",
              "      <td>28.0500</td>\n",
              "      <td>25.41250</td>\n",
              "      <td>20.80500</td>\n",
              "      <td>17.59250</td>\n",
              "      <td>9</td>\n",
              "    </tr>\n",
              "    <tr>\n",
              "      <th>603</th>\n",
              "      <td>125.708333</td>\n",
              "      <td>110.138889</td>\n",
              "      <td>59.694444</td>\n",
              "      <td>63.795</td>\n",
              "      <td>79.675</td>\n",
              "      <td>53.395</td>\n",
              "      <td>51.3625</td>\n",
              "      <td>47.6775</td>\n",
              "      <td>32.4025</td>\n",
              "      <td>29.74125</td>\n",
              "      <td>27.94625</td>\n",
              "      <td>24.92125</td>\n",
              "      <td>9</td>\n",
              "    </tr>\n",
              "    <tr>\n",
              "      <th>604</th>\n",
              "      <td>118.138889</td>\n",
              "      <td>121.097222</td>\n",
              "      <td>59.847222</td>\n",
              "      <td>74.305</td>\n",
              "      <td>59.945</td>\n",
              "      <td>29.555</td>\n",
              "      <td>34.5275</td>\n",
              "      <td>31.7625</td>\n",
              "      <td>22.1475</td>\n",
              "      <td>17.23375</td>\n",
              "      <td>15.18875</td>\n",
              "      <td>13.07875</td>\n",
              "      <td>9</td>\n",
              "    </tr>\n",
              "  </tbody>\n",
              "</table>\n",
              "<p>605 rows × 13 columns</p>\n",
              "</div>"
            ],
            "text/plain": [
              "              0           1           2        3        4        5        6  \\\n",
              "0    167.715278  131.729167  122.576389   83.830   91.180   52.070  32.6850   \n",
              "1    188.902778  126.027778   94.902778   99.790   95.180   47.120  40.5100   \n",
              "2    210.312500  193.868056   30.020833  122.540   85.580   71.940  42.2800   \n",
              "3    105.298611   64.298611   35.826389  120.080   83.940   39.750  57.3650   \n",
              "4    294.013889  284.236111  116.805556  160.880  158.490  104.880  54.9800   \n",
              "..          ...         ...         ...      ...      ...      ...      ...   \n",
              "600  152.590278  112.493056   46.548611   92.935   99.305   69.005  47.4575   \n",
              "601   84.444444   49.597222   44.513889   52.005   52.705   43.245  32.1825   \n",
              "602   83.958333   96.930556   43.930556   73.900   85.620   43.880  42.6850   \n",
              "603  125.708333  110.138889   59.694444   63.795   79.675   53.395  51.3625   \n",
              "604  118.138889  121.097222   59.847222   74.305   59.945   29.555  34.5275   \n",
              "\n",
              "           7        8         9        10        11  Target  \n",
              "0    35.9950  19.2550  11.49250  14.10250   8.59000       0  \n",
              "1    36.8250  25.0250  19.40500  15.96250  14.48500       0  \n",
              "2    32.8050  25.8550  22.47250  19.28500  17.64500       0  \n",
              "3    51.1100  17.4450  27.91000  27.14750  10.06250       0  \n",
              "4    53.5300  41.0750  24.59750  23.92500  20.87750       0  \n",
              "..       ...      ...       ...       ...       ...     ...  \n",
              "600  60.2475  38.0525  25.51875  28.75375  19.40875       9  \n",
              "601  52.0125  25.5025  19.10375  24.16625  17.54375       9  \n",
              "602  45.5400  28.0500  25.41250  20.80500  17.59250       9  \n",
              "603  47.6775  32.4025  29.74125  27.94625  24.92125       9  \n",
              "604  31.7625  22.1475  17.23375  15.18875  13.07875       9  \n",
              "\n",
              "[605 rows x 13 columns]"
            ]
          },
          "execution_count": 120,
          "metadata": {},
          "output_type": "execute_result"
        }
      ],
      "source": [
        "flat_data_arr=[]\n",
        "target_arr=[]\n",
        "\n",
        "datadir='./data/caltech-101/101_ObjectCategories' \n",
        "for i in Categories:\n",
        "  print(f'loading... category : {i}')\n",
        "  path=os.path.join(datadir,i)\n",
        "  for img in os.listdir(path):\n",
        "    img_array=cv2.imread(os.path.join(path,img))\n",
        "    img_resized = cv2.resize(img_array, (40, 40))\n",
        "\n",
        "    wm_features = extract_wm_features(img_resized)\n",
        "    flat_data_arr.append(wm_features)\n",
        "    target_arr.append(Categories.index(i))\n",
        "  print(f'loaded category:{i} successfully')\n",
        "flat_data=np.array(flat_data_arr)\n",
        "target=np.array(target_arr)\n",
        "df=pd.DataFrame(flat_data)\n",
        "df['Target']=target\n",
        "df"
      ]
    },
    {
      "cell_type": "code",
      "execution_count": 121,
      "metadata": {},
      "outputs": [
        {
          "name": "stdout",
          "output_type": "stream",
          "text": [
            "Splitted Successfully\n"
          ]
        }
      ],
      "source": [
        "x=df.iloc[:,:-1]\n",
        "y=df.iloc[:,-1]\n",
        "df_arr.append(x)\n",
        "\n",
        "x_train,x_test,y_train,y_test=train_test_split(x,y,test_size=0.20,random_state=77,stratify=y)\n",
        "print('Splitted Successfully')"
      ]
    },
    {
      "cell_type": "code",
      "execution_count": 26,
      "metadata": {},
      "outputs": [
        {
          "name": "stdout",
          "output_type": "stream",
          "text": [
            "The training of the model is started, please wait for while as it may take few minutes to complete\n",
            "The Model is trained well with the given images\n"
          ]
        },
        {
          "data": {
            "text/plain": [
              "{'C': 0.1, 'gamma': 0.0001, 'kernel': 'poly'}"
            ]
          },
          "execution_count": 26,
          "metadata": {},
          "output_type": "execute_result"
        }
      ],
      "source": [
        "param_grid={'C':[0.1,1,10,100],'gamma':[0.0001,0.001,0.1,1],'kernel':['rbf','poly']}\n",
        "svc=svm.SVC(probability=True)\n",
        "print(\"The training of the model is started, please wait for while as it may take few minutes to complete\")\n",
        "model=GridSearchCV(svc,param_grid)\n",
        "model.fit(x_train,y_train)\n",
        "print('The Model is trained well with the given images')\n",
        "model.best_params_"
      ]
    },
    {
      "cell_type": "code",
      "execution_count": 27,
      "metadata": {},
      "outputs": [
        {
          "name": "stdout",
          "output_type": "stream",
          "text": [
            "The predicted Data is :\n"
          ]
        },
        {
          "data": {
            "text/plain": [
              "array([6, 1, 8, 3, 8, 9, 3, 0, 6, 6, 9, 3, 3, 8, 8, 8, 2, 8, 8, 0, 9, 8,\n",
              "       4, 8, 7, 8, 3, 6, 6, 8, 8, 0, 8, 3, 6, 8, 8, 3, 7, 0, 9, 9, 8, 8,\n",
              "       9, 5, 9, 3, 9, 3, 3, 8, 7, 7, 8, 3, 9, 8, 3, 4, 4, 8, 8, 9, 8, 9,\n",
              "       8, 8, 9, 8, 8, 8, 8, 3, 3, 8, 3, 8, 8, 8, 7, 8, 8, 8, 7, 2, 8, 2,\n",
              "       8, 1, 8, 8, 5, 5, 8, 7, 5, 0, 3, 0, 3, 3, 5, 7, 6, 8, 3, 3, 8, 4,\n",
              "       3, 8, 7, 8, 5, 8, 3, 0, 3, 5, 3])"
            ]
          },
          "execution_count": 27,
          "metadata": {},
          "output_type": "execute_result"
        }
      ],
      "source": [
        "y_pred=model.predict(x_test)\n",
        "print(\"The predicted Data is :\")\n",
        "y_pred"
      ]
    },
    {
      "cell_type": "code",
      "execution_count": 53,
      "metadata": {},
      "outputs": [
        {
          "name": "stdout",
          "output_type": "stream",
          "text": [
            "The actual data is:\n"
          ]
        },
        {
          "data": {
            "text/plain": [
              "array([0, 3, 3, 4, 9, 1, 8, 0, 5, 7, 9, 4, 4, 8, 2, 3, 3, 9, 0, 2, 2, 1,\n",
              "       4, 5, 7, 7, 2, 5, 6, 3, 6, 1, 1, 4, 7, 8, 9, 4, 7, 6, 6, 9, 3, 7,\n",
              "       1, 5, 7, 3, 5, 1, 2, 8, 7, 8, 1, 3, 5, 2, 3, 4, 4, 6, 2, 8, 3, 2,\n",
              "       3, 8, 9, 9, 8, 8, 5, 3, 4, 2, 3, 8, 6, 1, 9, 7, 0, 8, 8, 5, 6, 2,\n",
              "       3, 7, 5, 9, 9, 9, 6, 3, 1, 0, 3, 0, 7, 9, 0, 2, 6, 6, 7, 0, 8, 4,\n",
              "       4, 4, 9, 3, 9, 5, 5, 7, 6, 9, 6])"
            ]
          },
          "execution_count": 53,
          "metadata": {},
          "output_type": "execute_result"
        }
      ],
      "source": [
        "print(\"The actual data is:\")\n",
        "np.array(y_test)"
      ]
    },
    {
      "cell_type": "code",
      "execution_count": 54,
      "metadata": {},
      "outputs": [
        {
          "name": "stdout",
          "output_type": "stream",
          "text": [
            "The model is 26.446280991735538% accurate\n"
          ]
        }
      ],
      "source": [
        "print(f\"The model is {accuracy_score(y_pred,y_test)*100}% accurate\")"
      ]
    },
    {
      "cell_type": "code",
      "execution_count": 55,
      "metadata": {},
      "outputs": [
        {
          "data": {
            "text/plain": [
              "array([[-0.30134003,  2.78882038,  1.75220329, ...,  6.2686076 ,\n",
              "         7.24103365,  8.28165173],\n",
              "       [ 3.70140397,  9.32350385,  7.3271092 , ...,  3.72480378,\n",
              "         1.68597612,  0.67342327],\n",
              "       [ 0.71197626,  2.73685858,  1.73216912, ...,  5.23361246,\n",
              "         9.2886336 ,  5.25289056],\n",
              "       ...,\n",
              "       [-0.2965371 ,  2.80819659,  4.07066189, ...,  6.0862943 ,\n",
              "         8.28184403,  3.96982433],\n",
              "       [ 2.70504771,  5.19596865,  2.85290985, ...,  7.23553041,\n",
              "         6.12644692,  8.31451608],\n",
              "       [-0.28513787,  1.87192328,  2.76964535, ...,  3.78098204,\n",
              "         8.29295994,  4.83405992]])"
            ]
          },
          "execution_count": 55,
          "metadata": {},
          "output_type": "execute_result"
        }
      ],
      "source": [
        "decision_scores = model.decision_function(x_test)\n",
        "decision_scores_arr.append(('WM', decision_scores))\n",
        "\n",
        "decision_scores"
      ]
    },
    {
      "cell_type": "code",
      "execution_count": 56,
      "metadata": {},
      "outputs": [
        {
          "name": "stdout",
          "output_type": "stream",
          "text": [
            "The model is 75.20661157024794% accurate for k= 5\n"
          ]
        }
      ],
      "source": [
        "top_k_predict = top_k_accuracy_score(y_test, decision_scores, k=k)\n",
        "print(f\"The model is {top_k_predict*100}% accurate for k= {k}\")\n"
      ]
    },
    {
      "cell_type": "code",
      "execution_count": 63,
      "metadata": {},
      "outputs": [],
      "source": [
        "# calculate hinge loss\n",
        "loss = hinge_loss(y_test, decision_scores)\n",
        "loss_v_arr.append(loss)\n",
        "n_feature_arr.append(x.shape[1])"
      ]
    },
    {
      "cell_type": "markdown",
      "metadata": {},
      "source": [
        "# SVM with LBP (Local Binary Pattern) Image Filter\n"
      ]
    },
    {
      "cell_type": "code",
      "execution_count": 64,
      "metadata": {},
      "outputs": [],
      "source": [
        "\n",
        "def extract_lbp_features(photo):\n",
        "  def assign_bit(picture, x, y, c):   #comparing bit with threshold value of centre pixel\n",
        "      bit = 0  \n",
        "      try:          \n",
        "          if picture[x][y] >= c: \n",
        "              bit = 1         \n",
        "      except: \n",
        "          pass\n",
        "      return bit \n",
        "  def local_bin_val(picture, x, y):  #calculating local binary pattern value of a pixel\n",
        "      eight_bit_binary = []\n",
        "      centre = picture[x][y] \n",
        "      powers = [1, 2, 4, 8, 16, 32, 64, 128] \n",
        "      decimal_val = 0\n",
        "      #starting from top right,assigning bit to pixels clockwise \n",
        "      eight_bit_binary.append(assign_bit(picture, x-1, y + 1,centre)) \n",
        "      eight_bit_binary.append(assign_bit(picture, x, y + 1, centre)) \n",
        "      eight_bit_binary.append(assign_bit(picture, x + 1, y + 1, centre)) \n",
        "      eight_bit_binary.append(assign_bit(picture, x + 1, y, centre)) \n",
        "      eight_bit_binary.append(assign_bit(picture, x + 1, y-1, centre)) \n",
        "      eight_bit_binary.append(assign_bit(picture, x, y-1, centre)) \n",
        "      eight_bit_binary.append(assign_bit(picture, x-1, y-1, centre)) \n",
        "      eight_bit_binary.append(assign_bit(picture, x-1, y, centre))     \n",
        "      #calculating decimal value of the 8-bit binary number\n",
        "      for i in range(len(eight_bit_binary)): \n",
        "          decimal_val += eight_bit_binary[i] * powers[i] \n",
        "            \n",
        "      return decimal_val \n",
        "  m, n, _ = photo.shape \n",
        "  gray_scale = cv2.cvtColor(photo, cv2.COLOR_BGR2GRAY)  #converting image to grayscale\n",
        "  lbp_photo = np.zeros((m, n),np.uint8) \n",
        "  # converting image to lbp\n",
        "  for i in range(0,m): \n",
        "      for j in range(0,n): \n",
        "          lbp_photo[i, j] = local_bin_val(gray_scale, i, j) \n",
        "     \n",
        "  return lbp_photo.flatten()"
      ]
    },
    {
      "cell_type": "code",
      "execution_count": 122,
      "metadata": {},
      "outputs": [
        {
          "name": "stdout",
          "output_type": "stream",
          "text": [
            "loading... category : ant\n",
            "loaded category:ant successfully\n",
            "loading... category : beaver\n",
            "loaded category:beaver successfully\n",
            "loading... category : cup\n",
            "loaded category:cup successfully\n",
            "loading... category : ewer\n",
            "loaded category:ewer successfully\n",
            "loading... category : lamp\n",
            "loaded category:lamp successfully\n",
            "loading... category : pizza\n",
            "loaded category:pizza successfully\n",
            "loading... category : rhino\n",
            "loaded category:rhino successfully\n",
            "loading... category : elephant\n",
            "loaded category:elephant successfully\n",
            "loading... category : dolphin\n",
            "loaded category:dolphin successfully\n",
            "loading... category : crab\n",
            "loaded category:crab successfully\n"
          ]
        },
        {
          "data": {
            "text/html": [
              "<div>\n",
              "<style scoped>\n",
              "    .dataframe tbody tr th:only-of-type {\n",
              "        vertical-align: middle;\n",
              "    }\n",
              "\n",
              "    .dataframe tbody tr th {\n",
              "        vertical-align: top;\n",
              "    }\n",
              "\n",
              "    .dataframe thead th {\n",
              "        text-align: right;\n",
              "    }\n",
              "</style>\n",
              "<table border=\"1\" class=\"dataframe\">\n",
              "  <thead>\n",
              "    <tr style=\"text-align: right;\">\n",
              "      <th></th>\n",
              "      <th>0</th>\n",
              "      <th>1</th>\n",
              "      <th>2</th>\n",
              "      <th>3</th>\n",
              "      <th>4</th>\n",
              "      <th>5</th>\n",
              "      <th>6</th>\n",
              "      <th>7</th>\n",
              "      <th>8</th>\n",
              "      <th>9</th>\n",
              "      <th>...</th>\n",
              "      <th>891</th>\n",
              "      <th>892</th>\n",
              "      <th>893</th>\n",
              "      <th>894</th>\n",
              "      <th>895</th>\n",
              "      <th>896</th>\n",
              "      <th>897</th>\n",
              "      <th>898</th>\n",
              "      <th>899</th>\n",
              "      <th>Target</th>\n",
              "    </tr>\n",
              "  </thead>\n",
              "  <tbody>\n",
              "    <tr>\n",
              "      <th>0</th>\n",
              "      <td>245</td>\n",
              "      <td>239</td>\n",
              "      <td>223</td>\n",
              "      <td>199</td>\n",
              "      <td>195</td>\n",
              "      <td>199</td>\n",
              "      <td>195</td>\n",
              "      <td>195</td>\n",
              "      <td>195</td>\n",
              "      <td>195</td>\n",
              "      <td>...</td>\n",
              "      <td>227</td>\n",
              "      <td>195</td>\n",
              "      <td>227</td>\n",
              "      <td>67</td>\n",
              "      <td>128</td>\n",
              "      <td>224</td>\n",
              "      <td>227</td>\n",
              "      <td>195</td>\n",
              "      <td>192</td>\n",
              "      <td>0</td>\n",
              "    </tr>\n",
              "    <tr>\n",
              "      <th>1</th>\n",
              "      <td>255</td>\n",
              "      <td>255</td>\n",
              "      <td>14</td>\n",
              "      <td>0</td>\n",
              "      <td>60</td>\n",
              "      <td>62</td>\n",
              "      <td>14</td>\n",
              "      <td>8</td>\n",
              "      <td>56</td>\n",
              "      <td>48</td>\n",
              "      <td>...</td>\n",
              "      <td>227</td>\n",
              "      <td>227</td>\n",
              "      <td>227</td>\n",
              "      <td>227</td>\n",
              "      <td>227</td>\n",
              "      <td>128</td>\n",
              "      <td>227</td>\n",
              "      <td>227</td>\n",
              "      <td>224</td>\n",
              "      <td>0</td>\n",
              "    </tr>\n",
              "    <tr>\n",
              "      <th>2</th>\n",
              "      <td>255</td>\n",
              "      <td>255</td>\n",
              "      <td>255</td>\n",
              "      <td>255</td>\n",
              "      <td>255</td>\n",
              "      <td>255</td>\n",
              "      <td>255</td>\n",
              "      <td>255</td>\n",
              "      <td>207</td>\n",
              "      <td>223</td>\n",
              "      <td>...</td>\n",
              "      <td>224</td>\n",
              "      <td>225</td>\n",
              "      <td>227</td>\n",
              "      <td>227</td>\n",
              "      <td>227</td>\n",
              "      <td>227</td>\n",
              "      <td>227</td>\n",
              "      <td>227</td>\n",
              "      <td>224</td>\n",
              "      <td>0</td>\n",
              "    </tr>\n",
              "    <tr>\n",
              "      <th>3</th>\n",
              "      <td>127</td>\n",
              "      <td>31</td>\n",
              "      <td>191</td>\n",
              "      <td>255</td>\n",
              "      <td>254</td>\n",
              "      <td>28</td>\n",
              "      <td>62</td>\n",
              "      <td>62</td>\n",
              "      <td>62</td>\n",
              "      <td>60</td>\n",
              "      <td>...</td>\n",
              "      <td>227</td>\n",
              "      <td>227</td>\n",
              "      <td>227</td>\n",
              "      <td>227</td>\n",
              "      <td>227</td>\n",
              "      <td>195</td>\n",
              "      <td>193</td>\n",
              "      <td>227</td>\n",
              "      <td>224</td>\n",
              "      <td>0</td>\n",
              "    </tr>\n",
              "    <tr>\n",
              "      <th>4</th>\n",
              "      <td>255</td>\n",
              "      <td>255</td>\n",
              "      <td>255</td>\n",
              "      <td>14</td>\n",
              "      <td>0</td>\n",
              "      <td>42</td>\n",
              "      <td>6</td>\n",
              "      <td>6</td>\n",
              "      <td>46</td>\n",
              "      <td>56</td>\n",
              "      <td>...</td>\n",
              "      <td>35</td>\n",
              "      <td>163</td>\n",
              "      <td>227</td>\n",
              "      <td>227</td>\n",
              "      <td>224</td>\n",
              "      <td>227</td>\n",
              "      <td>227</td>\n",
              "      <td>227</td>\n",
              "      <td>224</td>\n",
              "      <td>0</td>\n",
              "    </tr>\n",
              "    <tr>\n",
              "      <th>...</th>\n",
              "      <td>...</td>\n",
              "      <td>...</td>\n",
              "      <td>...</td>\n",
              "      <td>...</td>\n",
              "      <td>...</td>\n",
              "      <td>...</td>\n",
              "      <td>...</td>\n",
              "      <td>...</td>\n",
              "      <td>...</td>\n",
              "      <td>...</td>\n",
              "      <td>...</td>\n",
              "      <td>...</td>\n",
              "      <td>...</td>\n",
              "      <td>...</td>\n",
              "      <td>...</td>\n",
              "      <td>...</td>\n",
              "      <td>...</td>\n",
              "      <td>...</td>\n",
              "      <td>...</td>\n",
              "      <td>...</td>\n",
              "      <td>...</td>\n",
              "    </tr>\n",
              "    <tr>\n",
              "      <th>600</th>\n",
              "      <td>150</td>\n",
              "      <td>105</td>\n",
              "      <td>183</td>\n",
              "      <td>201</td>\n",
              "      <td>246</td>\n",
              "      <td>104</td>\n",
              "      <td>63</td>\n",
              "      <td>10</td>\n",
              "      <td>20</td>\n",
              "      <td>60</td>\n",
              "      <td>...</td>\n",
              "      <td>130</td>\n",
              "      <td>0</td>\n",
              "      <td>32</td>\n",
              "      <td>35</td>\n",
              "      <td>129</td>\n",
              "      <td>224</td>\n",
              "      <td>224</td>\n",
              "      <td>96</td>\n",
              "      <td>224</td>\n",
              "      <td>9</td>\n",
              "    </tr>\n",
              "    <tr>\n",
              "      <th>601</th>\n",
              "      <td>31</td>\n",
              "      <td>30</td>\n",
              "      <td>2</td>\n",
              "      <td>0</td>\n",
              "      <td>43</td>\n",
              "      <td>148</td>\n",
              "      <td>107</td>\n",
              "      <td>148</td>\n",
              "      <td>255</td>\n",
              "      <td>95</td>\n",
              "      <td>...</td>\n",
              "      <td>227</td>\n",
              "      <td>0</td>\n",
              "      <td>224</td>\n",
              "      <td>99</td>\n",
              "      <td>3</td>\n",
              "      <td>128</td>\n",
              "      <td>226</td>\n",
              "      <td>65</td>\n",
              "      <td>160</td>\n",
              "      <td>9</td>\n",
              "    </tr>\n",
              "    <tr>\n",
              "      <th>602</th>\n",
              "      <td>161</td>\n",
              "      <td>243</td>\n",
              "      <td>225</td>\n",
              "      <td>247</td>\n",
              "      <td>237</td>\n",
              "      <td>251</td>\n",
              "      <td>85</td>\n",
              "      <td>239</td>\n",
              "      <td>213</td>\n",
              "      <td>237</td>\n",
              "      <td>...</td>\n",
              "      <td>0</td>\n",
              "      <td>34</td>\n",
              "      <td>2</td>\n",
              "      <td>2</td>\n",
              "      <td>0</td>\n",
              "      <td>35</td>\n",
              "      <td>160</td>\n",
              "      <td>96</td>\n",
              "      <td>224</td>\n",
              "      <td>9</td>\n",
              "    </tr>\n",
              "    <tr>\n",
              "      <th>603</th>\n",
              "      <td>0</td>\n",
              "      <td>246</td>\n",
              "      <td>2</td>\n",
              "      <td>0</td>\n",
              "      <td>32</td>\n",
              "      <td>44</td>\n",
              "      <td>56</td>\n",
              "      <td>54</td>\n",
              "      <td>14</td>\n",
              "      <td>8</td>\n",
              "      <td>...</td>\n",
              "      <td>163</td>\n",
              "      <td>2</td>\n",
              "      <td>0</td>\n",
              "      <td>226</td>\n",
              "      <td>64</td>\n",
              "      <td>35</td>\n",
              "      <td>0</td>\n",
              "      <td>32</td>\n",
              "      <td>160</td>\n",
              "      <td>9</td>\n",
              "    </tr>\n",
              "    <tr>\n",
              "      <th>604</th>\n",
              "      <td>143</td>\n",
              "      <td>221</td>\n",
              "      <td>255</td>\n",
              "      <td>255</td>\n",
              "      <td>255</td>\n",
              "      <td>253</td>\n",
              "      <td>255</td>\n",
              "      <td>253</td>\n",
              "      <td>253</td>\n",
              "      <td>249</td>\n",
              "      <td>...</td>\n",
              "      <td>32</td>\n",
              "      <td>96</td>\n",
              "      <td>98</td>\n",
              "      <td>32</td>\n",
              "      <td>224</td>\n",
              "      <td>227</td>\n",
              "      <td>225</td>\n",
              "      <td>224</td>\n",
              "      <td>224</td>\n",
              "      <td>9</td>\n",
              "    </tr>\n",
              "  </tbody>\n",
              "</table>\n",
              "<p>605 rows × 901 columns</p>\n",
              "</div>"
            ],
            "text/plain": [
              "       0    1    2    3    4    5    6    7    8    9  ...  891  892  893  \\\n",
              "0    245  239  223  199  195  199  195  195  195  195  ...  227  195  227   \n",
              "1    255  255   14    0   60   62   14    8   56   48  ...  227  227  227   \n",
              "2    255  255  255  255  255  255  255  255  207  223  ...  224  225  227   \n",
              "3    127   31  191  255  254   28   62   62   62   60  ...  227  227  227   \n",
              "4    255  255  255   14    0   42    6    6   46   56  ...   35  163  227   \n",
              "..   ...  ...  ...  ...  ...  ...  ...  ...  ...  ...  ...  ...  ...  ...   \n",
              "600  150  105  183  201  246  104   63   10   20   60  ...  130    0   32   \n",
              "601   31   30    2    0   43  148  107  148  255   95  ...  227    0  224   \n",
              "602  161  243  225  247  237  251   85  239  213  237  ...    0   34    2   \n",
              "603    0  246    2    0   32   44   56   54   14    8  ...  163    2    0   \n",
              "604  143  221  255  255  255  253  255  253  253  249  ...   32   96   98   \n",
              "\n",
              "     894  895  896  897  898  899  Target  \n",
              "0     67  128  224  227  195  192       0  \n",
              "1    227  227  128  227  227  224       0  \n",
              "2    227  227  227  227  227  224       0  \n",
              "3    227  227  195  193  227  224       0  \n",
              "4    227  224  227  227  227  224       0  \n",
              "..   ...  ...  ...  ...  ...  ...     ...  \n",
              "600   35  129  224  224   96  224       9  \n",
              "601   99    3  128  226   65  160       9  \n",
              "602    2    0   35  160   96  224       9  \n",
              "603  226   64   35    0   32  160       9  \n",
              "604   32  224  227  225  224  224       9  \n",
              "\n",
              "[605 rows x 901 columns]"
            ]
          },
          "execution_count": 122,
          "metadata": {},
          "output_type": "execute_result"
        }
      ],
      "source": [
        "flat_data_arr=[]\n",
        "target_arr=[]\n",
        "#please use datadir='/content' if the files are upload on to google collab\n",
        "#else mount the drive and give path of the parent-folder containing all category images folders.\n",
        "datadir='E:/University/Tarbiat Modarres/Term1/Machin Learning/Article/Code/data/caltech-101/101_ObjectCategories' \n",
        "for i in Categories:\n",
        "  print(f'loading... category : {i}')\n",
        "  path=os.path.join(datadir,i)\n",
        "  for img in os.listdir(path):\n",
        "    img_array=cv2.imread(os.path.join(path,img))\n",
        "    img_resized = cv2.resize(img_array, (30, 30))\n",
        "\n",
        "    wm_features = extract_lbp_features(img_resized)\n",
        "    flat_data_arr.append(wm_features)\n",
        "    target_arr.append(Categories.index(i))\n",
        "  print(f'loaded category:{i} successfully')\n",
        "flat_data=np.array(flat_data_arr)\n",
        "target=np.array(target_arr)\n",
        "df=pd.DataFrame(flat_data)\n",
        "df['Target']=target\n",
        "df"
      ]
    },
    {
      "cell_type": "code",
      "execution_count": 123,
      "metadata": {},
      "outputs": [
        {
          "name": "stdout",
          "output_type": "stream",
          "text": [
            "Splitted Successfully\n"
          ]
        }
      ],
      "source": [
        "x=df.iloc[:,:-1]\n",
        "y=df.iloc[:,-1]\n",
        "df_arr.append(x)\n",
        "\n",
        "x_train,x_test,y_train,y_test=train_test_split(x,y,test_size=0.20,random_state=77,stratify=y)\n",
        "print('Splitted Successfully')"
      ]
    },
    {
      "cell_type": "code",
      "execution_count": 67,
      "metadata": {},
      "outputs": [
        {
          "name": "stdout",
          "output_type": "stream",
          "text": [
            "The training of the model is started, please wait for while as it may take few minutes to complete\n",
            "The Model is trained well with the given images\n"
          ]
        },
        {
          "data": {
            "text/plain": [
              "{'C': 0.1, 'gamma': 0.0001, 'kernel': 'poly'}"
            ]
          },
          "execution_count": 67,
          "metadata": {},
          "output_type": "execute_result"
        }
      ],
      "source": [
        "param_grid={'C':[0.1,1,10,100],'gamma':[0.0001,0.001,0.1,1],'kernel':['rbf','poly']}\n",
        "svc=svm.SVC(probability=True)\n",
        "print(\"The training of the model is started, please wait for while as it may take few minutes to complete\")\n",
        "model=GridSearchCV(svc,param_grid)\n",
        "model.fit(x_train,y_train)\n",
        "print('The Model is trained well with the given images')\n",
        "model.best_params_"
      ]
    },
    {
      "cell_type": "code",
      "execution_count": 68,
      "metadata": {},
      "outputs": [
        {
          "name": "stdout",
          "output_type": "stream",
          "text": [
            "The predicted Data is :\n"
          ]
        },
        {
          "data": {
            "text/plain": [
              "array([8, 4, 4, 7, 7, 3, 7, 2, 3, 3, 9, 3, 3, 3, 8, 3, 3, 3, 8, 7, 3, 6,\n",
              "       4, 9, 0, 3, 2, 3, 6, 2, 7, 6, 3, 4, 3, 9, 3, 4, 2, 6, 3, 4, 4, 3,\n",
              "       8, 3, 3, 3, 6, 7, 2, 3, 7, 7, 9, 3, 6, 9, 7, 3, 5, 2, 4, 3, 3, 7,\n",
              "       2, 6, 9, 2, 9, 9, 8, 8, 7, 4, 3, 8, 4, 3, 9, 3, 2, 8, 8, 7, 3, 2,\n",
              "       4, 9, 3, 3, 0, 3, 3, 0, 4, 0, 3, 8, 3, 1, 2, 3, 9, 6, 7, 3, 0, 3,\n",
              "       4, 2, 3, 3, 8, 9, 6, 3, 6, 3, 6])"
            ]
          },
          "execution_count": 68,
          "metadata": {},
          "output_type": "execute_result"
        }
      ],
      "source": [
        "y_pred=model.predict(x_test)\n",
        "print(\"The predicted Data is :\")\n",
        "y_pred"
      ]
    },
    {
      "cell_type": "code",
      "execution_count": 69,
      "metadata": {},
      "outputs": [
        {
          "name": "stdout",
          "output_type": "stream",
          "text": [
            "The actual data is:\n"
          ]
        },
        {
          "data": {
            "text/plain": [
              "array([0, 3, 3, 4, 9, 1, 8, 0, 5, 7, 9, 4, 4, 8, 2, 3, 3, 9, 0, 2, 2, 1,\n",
              "       4, 5, 7, 7, 2, 5, 6, 3, 6, 1, 1, 4, 7, 8, 9, 4, 7, 6, 6, 9, 3, 7,\n",
              "       1, 5, 7, 3, 5, 1, 2, 8, 7, 8, 1, 3, 5, 2, 3, 4, 4, 6, 2, 8, 3, 2,\n",
              "       3, 8, 9, 9, 8, 8, 5, 3, 4, 2, 3, 8, 6, 1, 9, 7, 0, 8, 8, 5, 6, 2,\n",
              "       3, 7, 5, 9, 9, 9, 6, 3, 1, 0, 3, 0, 7, 9, 0, 2, 6, 6, 7, 0, 8, 4,\n",
              "       4, 4, 9, 3, 9, 5, 5, 7, 6, 9, 6])"
            ]
          },
          "execution_count": 69,
          "metadata": {},
          "output_type": "execute_result"
        }
      ],
      "source": [
        "print(\"The actual data is:\")\n",
        "np.array(y_test)"
      ]
    },
    {
      "cell_type": "code",
      "execution_count": 70,
      "metadata": {},
      "outputs": [
        {
          "name": "stdout",
          "output_type": "stream",
          "text": [
            "The model is 23.96694214876033% accurate\n"
          ]
        }
      ],
      "source": [
        "#classification_report(y_pred,y_test)\n",
        "print(f\"The model is {accuracy_score(y_pred,y_test)*100}% accurate\")\n",
        "#confusion_matrix(y_pred,y_test)"
      ]
    },
    {
      "cell_type": "code",
      "execution_count": 71,
      "metadata": {},
      "outputs": [
        {
          "data": {
            "text/plain": [
              "array([[ 8.2441143 ,  0.74338672,  7.23152918, ...,  2.82275813,\n",
              "         9.25425886,  6.18037061],\n",
              "       [ 2.82379922,  0.76965642,  4.8620927 , ...,  2.78609792,\n",
              "         8.2498992 ,  7.08231301],\n",
              "       [-0.27357053,  5.87059066,  0.78107287, ...,  3.85267453,\n",
              "         5.91333465,  3.85677063],\n",
              "       ...,\n",
              "       [ 1.83127299,  0.77999748, -0.22655881, ...,  3.93028892,\n",
              "         5.10226329,  6.13952168],\n",
              "       [ 1.81850583,  3.9418275 ,  0.77690618, ...,  2.85803289,\n",
              "         6.1666946 ,  7.20750632],\n",
              "       [ 2.8810633 ,  5.06221306,  5.09498567, ...,  7.14798082,\n",
              "         7.1955853 ,  2.95750375]])"
            ]
          },
          "execution_count": 71,
          "metadata": {},
          "output_type": "execute_result"
        }
      ],
      "source": [
        "decision_scores = model.decision_function(x_test)\n",
        "decision_scores_arr.append(('LBP', decision_scores))\n",
        "\n",
        "decision_scores\n"
      ]
    },
    {
      "cell_type": "code",
      "execution_count": 72,
      "metadata": {},
      "outputs": [
        {
          "name": "stdout",
          "output_type": "stream",
          "text": [
            "The model is 73.55371900826447% accurate for k= 5\n"
          ]
        }
      ],
      "source": [
        "\n",
        "top_k_predict = top_k_accuracy_score(y_test, decision_scores, k=k)\n",
        "print(f\"The model is {top_k_predict*100}% accurate for k= {k}\")\n"
      ]
    },
    {
      "cell_type": "code",
      "execution_count": 73,
      "metadata": {},
      "outputs": [],
      "source": [
        "# calculate hinge loss\n",
        "loss = hinge_loss(y_test, decision_scores)\n",
        "loss_v_arr.append(loss)\n",
        "n_feature_arr.append(x.shape[1])"
      ]
    },
    {
      "cell_type": "markdown",
      "metadata": {},
      "source": [
        "# SVM with Corr Image Filter\n"
      ]
    },
    {
      "cell_type": "code",
      "execution_count": 74,
      "metadata": {},
      "outputs": [],
      "source": [
        "from scipy.ndimage import correlate\n"
      ]
    },
    {
      "cell_type": "code",
      "execution_count": 75,
      "metadata": {},
      "outputs": [],
      "source": [
        "def extract_corr_features(image):\n",
        "   \n",
        "    gray_image = cv2.cvtColor(image, cv2.COLOR_BGR2GRAY)\n",
        "    \n",
        "    corr_image = correlate(gray_image, np.array([[1, 1, 1], [1, -8, 1], [1, 1, 1]]), mode='constant', cval=0.0)\n",
        "    \n",
        "    corr_features = corr_image.flatten()\n",
        "    \n",
        "    return corr_features"
      ]
    },
    {
      "cell_type": "code",
      "execution_count": 132,
      "metadata": {},
      "outputs": [
        {
          "name": "stdout",
          "output_type": "stream",
          "text": [
            "loading... category : ant\n",
            "loaded category:ant successfully\n",
            "loading... category : beaver\n",
            "loaded category:beaver successfully\n",
            "loading... category : cup\n",
            "loaded category:cup successfully\n",
            "loading... category : ewer\n",
            "loaded category:ewer successfully\n",
            "loading... category : lamp\n",
            "loaded category:lamp successfully\n",
            "loading... category : pizza\n",
            "loaded category:pizza successfully\n",
            "loading... category : rhino\n",
            "loaded category:rhino successfully\n",
            "loading... category : elephant\n",
            "loaded category:elephant successfully\n",
            "loading... category : dolphin\n",
            "loaded category:dolphin successfully\n",
            "loading... category : crab\n",
            "loaded category:crab successfully\n"
          ]
        },
        {
          "data": {
            "text/html": [
              "<div>\n",
              "<style scoped>\n",
              "    .dataframe tbody tr th:only-of-type {\n",
              "        vertical-align: middle;\n",
              "    }\n",
              "\n",
              "    .dataframe tbody tr th {\n",
              "        vertical-align: top;\n",
              "    }\n",
              "\n",
              "    .dataframe thead th {\n",
              "        text-align: right;\n",
              "    }\n",
              "</style>\n",
              "<table border=\"1\" class=\"dataframe\">\n",
              "  <thead>\n",
              "    <tr style=\"text-align: right;\">\n",
              "      <th></th>\n",
              "      <th>0</th>\n",
              "      <th>1</th>\n",
              "      <th>2</th>\n",
              "      <th>3</th>\n",
              "      <th>4</th>\n",
              "      <th>5</th>\n",
              "      <th>6</th>\n",
              "      <th>7</th>\n",
              "      <th>8</th>\n",
              "      <th>9</th>\n",
              "      <th>...</th>\n",
              "      <th>891</th>\n",
              "      <th>892</th>\n",
              "      <th>893</th>\n",
              "      <th>894</th>\n",
              "      <th>895</th>\n",
              "      <th>896</th>\n",
              "      <th>897</th>\n",
              "      <th>898</th>\n",
              "      <th>899</th>\n",
              "      <th>Target</th>\n",
              "    </tr>\n",
              "  </thead>\n",
              "  <tbody>\n",
              "    <tr>\n",
              "      <th>0</th>\n",
              "      <td>117</td>\n",
              "      <td>189</td>\n",
              "      <td>7</td>\n",
              "      <td>245</td>\n",
              "      <td>92</td>\n",
              "      <td>138</td>\n",
              "      <td>128</td>\n",
              "      <td>109</td>\n",
              "      <td>89</td>\n",
              "      <td>96</td>\n",
              "      <td>...</td>\n",
              "      <td>111</td>\n",
              "      <td>67</td>\n",
              "      <td>77</td>\n",
              "      <td>27</td>\n",
              "      <td>253</td>\n",
              "      <td>49</td>\n",
              "      <td>74</td>\n",
              "      <td>58</td>\n",
              "      <td>250</td>\n",
              "      <td>0</td>\n",
              "    </tr>\n",
              "    <tr>\n",
              "      <th>1</th>\n",
              "      <td>0</td>\n",
              "      <td>3</td>\n",
              "      <td>112</td>\n",
              "      <td>185</td>\n",
              "      <td>105</td>\n",
              "      <td>134</td>\n",
              "      <td>57</td>\n",
              "      <td>16</td>\n",
              "      <td>93</td>\n",
              "      <td>146</td>\n",
              "      <td>...</td>\n",
              "      <td>184</td>\n",
              "      <td>184</td>\n",
              "      <td>184</td>\n",
              "      <td>184</td>\n",
              "      <td>186</td>\n",
              "      <td>130</td>\n",
              "      <td>51</td>\n",
              "      <td>1</td>\n",
              "      <td>0</td>\n",
              "      <td>0</td>\n",
              "    </tr>\n",
              "    <tr>\n",
              "      <th>2</th>\n",
              "      <td>0</td>\n",
              "      <td>0</td>\n",
              "      <td>0</td>\n",
              "      <td>0</td>\n",
              "      <td>0</td>\n",
              "      <td>0</td>\n",
              "      <td>1</td>\n",
              "      <td>105</td>\n",
              "      <td>186</td>\n",
              "      <td>235</td>\n",
              "      <td>...</td>\n",
              "      <td>3</td>\n",
              "      <td>119</td>\n",
              "      <td>11</td>\n",
              "      <td>6</td>\n",
              "      <td>1</td>\n",
              "      <td>0</td>\n",
              "      <td>0</td>\n",
              "      <td>0</td>\n",
              "      <td>0</td>\n",
              "      <td>0</td>\n",
              "    </tr>\n",
              "    <tr>\n",
              "      <th>3</th>\n",
              "      <td>105</td>\n",
              "      <td>69</td>\n",
              "      <td>151</td>\n",
              "      <td>152</td>\n",
              "      <td>154</td>\n",
              "      <td>145</td>\n",
              "      <td>154</td>\n",
              "      <td>152</td>\n",
              "      <td>153</td>\n",
              "      <td>154</td>\n",
              "      <td>...</td>\n",
              "      <td>159</td>\n",
              "      <td>156</td>\n",
              "      <td>155</td>\n",
              "      <td>157</td>\n",
              "      <td>160</td>\n",
              "      <td>155</td>\n",
              "      <td>146</td>\n",
              "      <td>83</td>\n",
              "      <td>108</td>\n",
              "      <td>0</td>\n",
              "    </tr>\n",
              "    <tr>\n",
              "      <th>4</th>\n",
              "      <td>0</td>\n",
              "      <td>0</td>\n",
              "      <td>99</td>\n",
              "      <td>45</td>\n",
              "      <td>89</td>\n",
              "      <td>7</td>\n",
              "      <td>251</td>\n",
              "      <td>250</td>\n",
              "      <td>2</td>\n",
              "      <td>253</td>\n",
              "      <td>...</td>\n",
              "      <td>255</td>\n",
              "      <td>2</td>\n",
              "      <td>3</td>\n",
              "      <td>3</td>\n",
              "      <td>129</td>\n",
              "      <td>122</td>\n",
              "      <td>124</td>\n",
              "      <td>0</td>\n",
              "      <td>0</td>\n",
              "      <td>0</td>\n",
              "    </tr>\n",
              "    <tr>\n",
              "      <th>...</th>\n",
              "      <td>...</td>\n",
              "      <td>...</td>\n",
              "      <td>...</td>\n",
              "      <td>...</td>\n",
              "      <td>...</td>\n",
              "      <td>...</td>\n",
              "      <td>...</td>\n",
              "      <td>...</td>\n",
              "      <td>...</td>\n",
              "      <td>...</td>\n",
              "      <td>...</td>\n",
              "      <td>...</td>\n",
              "      <td>...</td>\n",
              "      <td>...</td>\n",
              "      <td>...</td>\n",
              "      <td>...</td>\n",
              "      <td>...</td>\n",
              "      <td>...</td>\n",
              "      <td>...</td>\n",
              "      <td>...</td>\n",
              "      <td>...</td>\n",
              "    </tr>\n",
              "    <tr>\n",
              "      <th>600</th>\n",
              "      <td>28</td>\n",
              "      <td>203</td>\n",
              "      <td>245</td>\n",
              "      <td>203</td>\n",
              "      <td>233</td>\n",
              "      <td>193</td>\n",
              "      <td>191</td>\n",
              "      <td>228</td>\n",
              "      <td>204</td>\n",
              "      <td>26</td>\n",
              "      <td>...</td>\n",
              "      <td>10</td>\n",
              "      <td>69</td>\n",
              "      <td>65</td>\n",
              "      <td>10</td>\n",
              "      <td>144</td>\n",
              "      <td>133</td>\n",
              "      <td>143</td>\n",
              "      <td>179</td>\n",
              "      <td>246</td>\n",
              "      <td>9</td>\n",
              "    </tr>\n",
              "    <tr>\n",
              "      <th>601</th>\n",
              "      <td>106</td>\n",
              "      <td>131</td>\n",
              "      <td>23</td>\n",
              "      <td>205</td>\n",
              "      <td>91</td>\n",
              "      <td>77</td>\n",
              "      <td>119</td>\n",
              "      <td>84</td>\n",
              "      <td>222</td>\n",
              "      <td>150</td>\n",
              "      <td>...</td>\n",
              "      <td>123</td>\n",
              "      <td>204</td>\n",
              "      <td>239</td>\n",
              "      <td>243</td>\n",
              "      <td>90</td>\n",
              "      <td>64</td>\n",
              "      <td>120</td>\n",
              "      <td>41</td>\n",
              "      <td>133</td>\n",
              "      <td>9</td>\n",
              "    </tr>\n",
              "    <tr>\n",
              "      <th>602</th>\n",
              "      <td>10</td>\n",
              "      <td>39</td>\n",
              "      <td>0</td>\n",
              "      <td>189</td>\n",
              "      <td>179</td>\n",
              "      <td>190</td>\n",
              "      <td>112</td>\n",
              "      <td>34</td>\n",
              "      <td>83</td>\n",
              "      <td>165</td>\n",
              "      <td>...</td>\n",
              "      <td>215</td>\n",
              "      <td>233</td>\n",
              "      <td>163</td>\n",
              "      <td>143</td>\n",
              "      <td>47</td>\n",
              "      <td>4</td>\n",
              "      <td>40</td>\n",
              "      <td>107</td>\n",
              "      <td>74</td>\n",
              "      <td>9</td>\n",
              "    </tr>\n",
              "    <tr>\n",
              "      <th>603</th>\n",
              "      <td>147</td>\n",
              "      <td>137</td>\n",
              "      <td>68</td>\n",
              "      <td>108</td>\n",
              "      <td>15</td>\n",
              "      <td>109</td>\n",
              "      <td>26</td>\n",
              "      <td>189</td>\n",
              "      <td>35</td>\n",
              "      <td>195</td>\n",
              "      <td>...</td>\n",
              "      <td>30</td>\n",
              "      <td>87</td>\n",
              "      <td>255</td>\n",
              "      <td>79</td>\n",
              "      <td>20</td>\n",
              "      <td>74</td>\n",
              "      <td>77</td>\n",
              "      <td>0</td>\n",
              "      <td>76</td>\n",
              "      <td>9</td>\n",
              "    </tr>\n",
              "    <tr>\n",
              "      <th>604</th>\n",
              "      <td>122</td>\n",
              "      <td>213</td>\n",
              "      <td>234</td>\n",
              "      <td>232</td>\n",
              "      <td>235</td>\n",
              "      <td>229</td>\n",
              "      <td>233</td>\n",
              "      <td>226</td>\n",
              "      <td>241</td>\n",
              "      <td>239</td>\n",
              "      <td>...</td>\n",
              "      <td>157</td>\n",
              "      <td>186</td>\n",
              "      <td>194</td>\n",
              "      <td>190</td>\n",
              "      <td>191</td>\n",
              "      <td>225</td>\n",
              "      <td>214</td>\n",
              "      <td>220</td>\n",
              "      <td>142</td>\n",
              "      <td>9</td>\n",
              "    </tr>\n",
              "  </tbody>\n",
              "</table>\n",
              "<p>605 rows × 901 columns</p>\n",
              "</div>"
            ],
            "text/plain": [
              "       0    1    2    3    4    5    6    7    8    9  ...  891  892  893  \\\n",
              "0    117  189    7  245   92  138  128  109   89   96  ...  111   67   77   \n",
              "1      0    3  112  185  105  134   57   16   93  146  ...  184  184  184   \n",
              "2      0    0    0    0    0    0    1  105  186  235  ...    3  119   11   \n",
              "3    105   69  151  152  154  145  154  152  153  154  ...  159  156  155   \n",
              "4      0    0   99   45   89    7  251  250    2  253  ...  255    2    3   \n",
              "..   ...  ...  ...  ...  ...  ...  ...  ...  ...  ...  ...  ...  ...  ...   \n",
              "600   28  203  245  203  233  193  191  228  204   26  ...   10   69   65   \n",
              "601  106  131   23  205   91   77  119   84  222  150  ...  123  204  239   \n",
              "602   10   39    0  189  179  190  112   34   83  165  ...  215  233  163   \n",
              "603  147  137   68  108   15  109   26  189   35  195  ...   30   87  255   \n",
              "604  122  213  234  232  235  229  233  226  241  239  ...  157  186  194   \n",
              "\n",
              "     894  895  896  897  898  899  Target  \n",
              "0     27  253   49   74   58  250       0  \n",
              "1    184  186  130   51    1    0       0  \n",
              "2      6    1    0    0    0    0       0  \n",
              "3    157  160  155  146   83  108       0  \n",
              "4      3  129  122  124    0    0       0  \n",
              "..   ...  ...  ...  ...  ...  ...     ...  \n",
              "600   10  144  133  143  179  246       9  \n",
              "601  243   90   64  120   41  133       9  \n",
              "602  143   47    4   40  107   74       9  \n",
              "603   79   20   74   77    0   76       9  \n",
              "604  190  191  225  214  220  142       9  \n",
              "\n",
              "[605 rows x 901 columns]"
            ]
          },
          "execution_count": 132,
          "metadata": {},
          "output_type": "execute_result"
        }
      ],
      "source": [
        "flat_data_arr=[]\n",
        "target_arr=[]\n",
        "#please use datadir='/content' if the files are upload on to google collab\n",
        "#else mount the drive and give path of the parent-folder containing all category images folders.\n",
        "datadir='E:/University/Tarbiat Modarres/Term1/Machin Learning/Article/Code/data/caltech-101/101_ObjectCategories' \n",
        "for i in Categories:\n",
        "  print(f'loading... category : {i}')\n",
        "  path=os.path.join(datadir,i)\n",
        "  for img in os.listdir(path):\n",
        "    img_array=cv2.imread(os.path.join(path,img))\n",
        "    img_resized = cv2.resize(img_array, (30, 30))\n",
        "\n",
        "    wm_features = extract_corr_features(img_resized)\n",
        "    flat_data_arr.append(wm_features)\n",
        "    target_arr.append(Categories.index(i))\n",
        "  print(f'loaded category:{i} successfully')\n",
        "flat_data=np.array(flat_data_arr)\n",
        "target=np.array(target_arr)\n",
        "df=pd.DataFrame(flat_data)\n",
        "df['Target']=target\n",
        "df"
      ]
    },
    {
      "cell_type": "code",
      "execution_count": 133,
      "metadata": {},
      "outputs": [
        {
          "name": "stdout",
          "output_type": "stream",
          "text": [
            "Splitted Successfully\n"
          ]
        }
      ],
      "source": [
        "x=df.iloc[:,:-1]\n",
        "y=df.iloc[:,-1]\n",
        "df_arr.append(x)\n",
        "\n",
        "x_train,x_test,y_train,y_test=train_test_split(x,y,test_size=0.20,random_state=77,stratify=y)\n",
        "print('Splitted Successfully')"
      ]
    },
    {
      "cell_type": "code",
      "execution_count": 78,
      "metadata": {},
      "outputs": [
        {
          "name": "stdout",
          "output_type": "stream",
          "text": [
            "The training of the model is started, please wait for while as it may take few minutes to complete\n",
            "The Model is trained well with the given images\n"
          ]
        },
        {
          "data": {
            "text/plain": [
              "{'C': 0.1, 'gamma': 0.0001, 'kernel': 'poly'}"
            ]
          },
          "execution_count": 78,
          "metadata": {},
          "output_type": "execute_result"
        }
      ],
      "source": [
        "param_grid={'C':[0.1,1,10,100],'gamma':[0.0001,0.001,0.1,1],'kernel':['rbf','poly']}\n",
        "svc=svm.SVC(probability=True)\n",
        "print(\"The training of the model is started, please wait for while as it may take few minutes to complete\")\n",
        "model=GridSearchCV(svc,param_grid)\n",
        "model.fit(x_train,y_train)\n",
        "print('The Model is trained well with the given images')\n",
        "model.best_params_"
      ]
    },
    {
      "cell_type": "code",
      "execution_count": 79,
      "metadata": {},
      "outputs": [
        {
          "name": "stdout",
          "output_type": "stream",
          "text": [
            "The predicted Data is :\n"
          ]
        },
        {
          "data": {
            "text/plain": [
              "array([6, 9, 7, 3, 5, 6, 9, 3, 7, 0, 3, 4, 4, 4, 8, 7, 3, 4, 1, 9, 2, 9,\n",
              "       3, 1, 8, 9, 7, 6, 3, 3, 7, 1, 2, 9, 8, 7, 6, 5, 9, 1, 7, 1, 3, 3,\n",
              "       9, 9, 4, 7, 0, 7, 0, 9, 4, 7, 9, 3, 4, 0, 2, 3, 3, 9, 9, 8, 3, 7,\n",
              "       7, 3, 9, 2, 3, 9, 5, 8, 5, 5, 9, 6, 6, 6, 9, 5, 8, 7, 8, 9, 6, 9,\n",
              "       9, 0, 9, 7, 9, 7, 2, 6, 9, 0, 7, 7, 7, 3, 8, 9, 9, 9, 0, 6, 9, 0,\n",
              "       1, 8, 8, 9, 6, 5, 3, 8, 7, 8, 6])"
            ]
          },
          "execution_count": 79,
          "metadata": {},
          "output_type": "execute_result"
        }
      ],
      "source": [
        "y_pred=model.predict(x_test)\n",
        "print(\"The predicted Data is :\")\n",
        "y_pred"
      ]
    },
    {
      "cell_type": "code",
      "execution_count": 80,
      "metadata": {},
      "outputs": [
        {
          "name": "stdout",
          "output_type": "stream",
          "text": [
            "The actual data is:\n"
          ]
        },
        {
          "data": {
            "text/plain": [
              "array([0, 3, 3, 4, 9, 1, 8, 0, 5, 7, 9, 4, 4, 8, 2, 3, 3, 9, 0, 2, 2, 1,\n",
              "       4, 5, 7, 7, 2, 5, 6, 3, 6, 1, 1, 4, 7, 8, 9, 4, 7, 6, 6, 9, 3, 7,\n",
              "       1, 5, 7, 3, 5, 1, 2, 8, 7, 8, 1, 3, 5, 2, 3, 4, 4, 6, 2, 8, 3, 2,\n",
              "       3, 8, 9, 9, 8, 8, 5, 3, 4, 2, 3, 8, 6, 1, 9, 7, 0, 8, 8, 5, 6, 2,\n",
              "       3, 7, 5, 9, 9, 9, 6, 3, 1, 0, 3, 0, 7, 9, 0, 2, 6, 6, 7, 0, 8, 4,\n",
              "       4, 4, 9, 3, 9, 5, 5, 7, 6, 9, 6])"
            ]
          },
          "execution_count": 80,
          "metadata": {},
          "output_type": "execute_result"
        }
      ],
      "source": [
        "print(\"The actual data is:\")\n",
        "np.array(y_test)"
      ]
    },
    {
      "cell_type": "code",
      "execution_count": 81,
      "metadata": {},
      "outputs": [
        {
          "name": "stdout",
          "output_type": "stream",
          "text": [
            "The model is 17.355371900826448% accurate\n"
          ]
        }
      ],
      "source": [
        "#classification_report(y_pred,y_test)\n",
        "print(f\"The model is {accuracy_score(y_pred,y_test)*100}% accurate\")\n",
        "#confusion_matrix(y_pred,y_test)"
      ]
    },
    {
      "cell_type": "code",
      "execution_count": 82,
      "metadata": {},
      "outputs": [
        {
          "data": {
            "text/plain": [
              "array([[ 2.78200991,  2.8194903 ,  6.21875925, ...,  8.24297849,\n",
              "         0.76835832,  8.24816135],\n",
              "       [ 4.95948995, -0.25799557,  6.05993898, ...,  7.21348454,\n",
              "         0.75989366,  9.26868677],\n",
              "       [ 1.85318079,  5.03544202,  5.01622715, ...,  9.27632939,\n",
              "        -0.27097033,  7.18202688],\n",
              "       ...,\n",
              "       [ 0.7688288 ,  5.14218733,  1.79153328, ...,  9.25685009,\n",
              "         7.19108635,  6.14869793],\n",
              "       [ 3.94860972,  0.78664904, -0.23449562, ...,  7.16816375,\n",
              "         9.21781183,  6.14633635],\n",
              "       [ 3.91186642, -0.2243024 ,  1.89805897, ...,  7.12751461,\n",
              "         6.02317142,  8.22674655]])"
            ]
          },
          "execution_count": 82,
          "metadata": {},
          "output_type": "execute_result"
        }
      ],
      "source": [
        "decision_scores = model.decision_function(x_test)\n",
        "decision_scores_arr.append(('Corr', decision_scores))\n",
        "decision_scores\n"
      ]
    },
    {
      "cell_type": "code",
      "execution_count": 83,
      "metadata": {},
      "outputs": [
        {
          "name": "stdout",
          "output_type": "stream",
          "text": [
            "The model is 66.94214876033058% accurate for k= 5\n"
          ]
        }
      ],
      "source": [
        "\n",
        "top_k_predict = top_k_accuracy_score(y_test, decision_scores, k=k)\n",
        "print(f\"The model is {top_k_predict*100}% accurate for k= {k}\")\n"
      ]
    },
    {
      "cell_type": "code",
      "execution_count": 84,
      "metadata": {},
      "outputs": [],
      "source": [
        "# calculate hinge loss\n",
        "loss = hinge_loss(y_test, decision_scores)\n",
        "loss_v_arr.append(loss)\n",
        "n_feature_arr.append(x.shape[1])"
      ]
    },
    {
      "cell_type": "markdown",
      "metadata": {},
      "source": [
        "## Fusion Feature\n"
      ]
    },
    {
      "cell_type": "markdown",
      "metadata": {},
      "source": [
        "enter weight of views"
      ]
    },
    {
      "attachments": {
        "image.png": {
          "image/png": "[encoded data removed]"
        }
      },
      "cell_type": "markdown",
      "metadata": {},
      "source": [
        "![image.png](attachment:image.png)"
      ]
    },
    {
      "cell_type": "code",
      "execution_count": 86,
      "metadata": {},
      "outputs": [
        {
          "data": {
            "text/plain": [
              "[0.3333333333333333, 0.3333333333333333, 0.3333333333333333]"
            ]
          },
          "execution_count": 86,
          "metadata": {},
          "output_type": "execute_result"
        }
      ],
      "source": [
        "##  wm  , lbs , corr\n",
        "r = 1.5\n",
        "V = 3\n",
        "a = 1/V # initial alpha\n",
        "weights=[a , a , a]\n",
        "weights"
      ]
    },
    {
      "cell_type": "code",
      "execution_count": 96,
      "metadata": {},
      "outputs": [
        {
          "data": {
            "text/plain": [
              "[0.1020128585257917, 0.43753088116384153, 0.4604562603103667]"
            ]
          },
          "execution_count": 96,
          "metadata": {},
          "output_type": "execute_result"
        }
      ],
      "source": [
        "loss_param_arr = []\n",
        "\n",
        "for v in range(V) :\n",
        "    n = n_feature_arr[v] \n",
        "    loss = loss_v_arr[v]    \n",
        "    _r = 1/r-1\n",
        "    param =  (1/(n*loss))**_r\n",
        "    loss_param_arr.append(param)\n",
        "\n",
        "new_weights = [loss_param_arr[v]/(np.einsum(\"i->\",loss_param_arr)) for v in range(V)]\n",
        "new_weights"
      ]
    },
    {
      "cell_type": "markdown",
      "metadata": {},
      "source": [
        "### Top-k SVM "
      ]
    },
    {
      "cell_type": "code",
      "execution_count": 135,
      "metadata": {},
      "outputs": [],
      "source": [
        "df_arr2 = [new_weights[v]*df_arr[v] for v in range(V)]"
      ]
    },
    {
      "cell_type": "code",
      "execution_count": 137,
      "metadata": {},
      "outputs": [],
      "source": [
        "df = pd.concat(df_arr2 , axis=1)"
      ]
    },
    {
      "cell_type": "code",
      "execution_count": 138,
      "metadata": {},
      "outputs": [
        {
          "data": {
            "text/html": [
              "<div>\n",
              "<style scoped>\n",
              "    .dataframe tbody tr th:only-of-type {\n",
              "        vertical-align: middle;\n",
              "    }\n",
              "\n",
              "    .dataframe tbody tr th {\n",
              "        vertical-align: top;\n",
              "    }\n",
              "\n",
              "    .dataframe thead th {\n",
              "        text-align: right;\n",
              "    }\n",
              "</style>\n",
              "<table border=\"1\" class=\"dataframe\">\n",
              "  <thead>\n",
              "    <tr style=\"text-align: right;\">\n",
              "      <th></th>\n",
              "      <th>0</th>\n",
              "      <th>1</th>\n",
              "      <th>2</th>\n",
              "      <th>3</th>\n",
              "      <th>4</th>\n",
              "      <th>5</th>\n",
              "      <th>6</th>\n",
              "      <th>7</th>\n",
              "      <th>8</th>\n",
              "      <th>9</th>\n",
              "      <th>...</th>\n",
              "      <th>890</th>\n",
              "      <th>891</th>\n",
              "      <th>892</th>\n",
              "      <th>893</th>\n",
              "      <th>894</th>\n",
              "      <th>895</th>\n",
              "      <th>896</th>\n",
              "      <th>897</th>\n",
              "      <th>898</th>\n",
              "      <th>899</th>\n",
              "    </tr>\n",
              "  </thead>\n",
              "  <tbody>\n",
              "    <tr>\n",
              "      <th>0</th>\n",
              "      <td>17.109115</td>\n",
              "      <td>13.438069</td>\n",
              "      <td>12.504368</td>\n",
              "      <td>8.551738</td>\n",
              "      <td>9.301532</td>\n",
              "      <td>5.311810</td>\n",
              "      <td>3.334290</td>\n",
              "      <td>3.671953</td>\n",
              "      <td>1.964258</td>\n",
              "      <td>1.172383</td>\n",
              "      <td>...</td>\n",
              "      <td>18.878707</td>\n",
              "      <td>51.110645</td>\n",
              "      <td>30.850569</td>\n",
              "      <td>35.455132</td>\n",
              "      <td>12.432319</td>\n",
              "      <td>116.495434</td>\n",
              "      <td>22.562357</td>\n",
              "      <td>34.073763</td>\n",
              "      <td>26.706463</td>\n",
              "      <td>115.114065</td>\n",
              "    </tr>\n",
              "    <tr>\n",
              "      <th>1</th>\n",
              "      <td>19.270512</td>\n",
              "      <td>12.856454</td>\n",
              "      <td>9.681304</td>\n",
              "      <td>10.179863</td>\n",
              "      <td>9.709584</td>\n",
              "      <td>4.806846</td>\n",
              "      <td>4.132541</td>\n",
              "      <td>3.756624</td>\n",
              "      <td>2.552872</td>\n",
              "      <td>1.979560</td>\n",
              "      <td>...</td>\n",
              "      <td>84.723952</td>\n",
              "      <td>84.723952</td>\n",
              "      <td>84.723952</td>\n",
              "      <td>84.723952</td>\n",
              "      <td>84.723952</td>\n",
              "      <td>85.644864</td>\n",
              "      <td>59.859314</td>\n",
              "      <td>23.483269</td>\n",
              "      <td>0.460456</td>\n",
              "      <td>0.000000</td>\n",
              "    </tr>\n",
              "    <tr>\n",
              "      <th>2</th>\n",
              "      <td>21.454579</td>\n",
              "      <td>19.777035</td>\n",
              "      <td>3.062511</td>\n",
              "      <td>12.500656</td>\n",
              "      <td>8.730260</td>\n",
              "      <td>7.338805</td>\n",
              "      <td>4.313104</td>\n",
              "      <td>3.346532</td>\n",
              "      <td>2.637542</td>\n",
              "      <td>2.292484</td>\n",
              "      <td>...</td>\n",
              "      <td>33.152851</td>\n",
              "      <td>1.381369</td>\n",
              "      <td>54.794295</td>\n",
              "      <td>5.065019</td>\n",
              "      <td>2.762738</td>\n",
              "      <td>0.460456</td>\n",
              "      <td>0.000000</td>\n",
              "      <td>0.000000</td>\n",
              "      <td>0.000000</td>\n",
              "      <td>0.000000</td>\n",
              "    </tr>\n",
              "    <tr>\n",
              "      <th>3</th>\n",
              "      <td>10.741812</td>\n",
              "      <td>6.559285</td>\n",
              "      <td>3.654752</td>\n",
              "      <td>12.249704</td>\n",
              "      <td>8.562959</td>\n",
              "      <td>4.055011</td>\n",
              "      <td>5.851968</td>\n",
              "      <td>5.213877</td>\n",
              "      <td>1.779614</td>\n",
              "      <td>2.847179</td>\n",
              "      <td>...</td>\n",
              "      <td>65.845245</td>\n",
              "      <td>73.212545</td>\n",
              "      <td>71.831177</td>\n",
              "      <td>71.370720</td>\n",
              "      <td>72.291633</td>\n",
              "      <td>73.673002</td>\n",
              "      <td>71.370720</td>\n",
              "      <td>67.226614</td>\n",
              "      <td>38.217870</td>\n",
              "      <td>49.729276</td>\n",
              "    </tr>\n",
              "    <tr>\n",
              "      <th>4</th>\n",
              "      <td>29.993197</td>\n",
              "      <td>28.995738</td>\n",
              "      <td>11.915669</td>\n",
              "      <td>16.411829</td>\n",
              "      <td>16.168018</td>\n",
              "      <td>10.699109</td>\n",
              "      <td>5.608667</td>\n",
              "      <td>5.460748</td>\n",
              "      <td>4.190178</td>\n",
              "      <td>2.509261</td>\n",
              "      <td>...</td>\n",
              "      <td>116.955890</td>\n",
              "      <td>117.416346</td>\n",
              "      <td>0.920913</td>\n",
              "      <td>1.381369</td>\n",
              "      <td>1.381369</td>\n",
              "      <td>59.398858</td>\n",
              "      <td>56.175664</td>\n",
              "      <td>57.096576</td>\n",
              "      <td>0.000000</td>\n",
              "      <td>0.000000</td>\n",
              "    </tr>\n",
              "    <tr>\n",
              "      <th>...</th>\n",
              "      <td>...</td>\n",
              "      <td>...</td>\n",
              "      <td>...</td>\n",
              "      <td>...</td>\n",
              "      <td>...</td>\n",
              "      <td>...</td>\n",
              "      <td>...</td>\n",
              "      <td>...</td>\n",
              "      <td>...</td>\n",
              "      <td>...</td>\n",
              "      <td>...</td>\n",
              "      <td>...</td>\n",
              "      <td>...</td>\n",
              "      <td>...</td>\n",
              "      <td>...</td>\n",
              "      <td>...</td>\n",
              "      <td>...</td>\n",
              "      <td>...</td>\n",
              "      <td>...</td>\n",
              "      <td>...</td>\n",
              "      <td>...</td>\n",
              "    </tr>\n",
              "    <tr>\n",
              "      <th>600</th>\n",
              "      <td>15.566170</td>\n",
              "      <td>11.475738</td>\n",
              "      <td>4.748557</td>\n",
              "      <td>9.480565</td>\n",
              "      <td>10.130387</td>\n",
              "      <td>7.039397</td>\n",
              "      <td>4.841275</td>\n",
              "      <td>6.146020</td>\n",
              "      <td>3.881844</td>\n",
              "      <td>2.603241</td>\n",
              "      <td>...</td>\n",
              "      <td>85.184408</td>\n",
              "      <td>4.604563</td>\n",
              "      <td>31.771482</td>\n",
              "      <td>29.929657</td>\n",
              "      <td>4.604563</td>\n",
              "      <td>66.305701</td>\n",
              "      <td>61.240683</td>\n",
              "      <td>65.845245</td>\n",
              "      <td>82.421671</td>\n",
              "      <td>113.272240</td>\n",
              "    </tr>\n",
              "    <tr>\n",
              "      <th>601</th>\n",
              "      <td>8.614419</td>\n",
              "      <td>5.059554</td>\n",
              "      <td>4.540989</td>\n",
              "      <td>5.305179</td>\n",
              "      <td>5.376588</td>\n",
              "      <td>4.411546</td>\n",
              "      <td>3.283029</td>\n",
              "      <td>5.305944</td>\n",
              "      <td>2.601583</td>\n",
              "      <td>1.948828</td>\n",
              "      <td>...</td>\n",
              "      <td>53.873382</td>\n",
              "      <td>56.636120</td>\n",
              "      <td>93.933077</td>\n",
              "      <td>110.049046</td>\n",
              "      <td>111.890871</td>\n",
              "      <td>41.441063</td>\n",
              "      <td>29.469201</td>\n",
              "      <td>55.254751</td>\n",
              "      <td>18.878707</td>\n",
              "      <td>61.240683</td>\n",
              "    </tr>\n",
              "    <tr>\n",
              "      <th>602</th>\n",
              "      <td>8.564830</td>\n",
              "      <td>9.888163</td>\n",
              "      <td>4.481482</td>\n",
              "      <td>7.538750</td>\n",
              "      <td>8.734341</td>\n",
              "      <td>4.476324</td>\n",
              "      <td>4.354419</td>\n",
              "      <td>4.645666</td>\n",
              "      <td>2.861461</td>\n",
              "      <td>2.592402</td>\n",
              "      <td>...</td>\n",
              "      <td>23.022813</td>\n",
              "      <td>98.998096</td>\n",
              "      <td>107.286309</td>\n",
              "      <td>75.054370</td>\n",
              "      <td>65.845245</td>\n",
              "      <td>21.641444</td>\n",
              "      <td>1.841825</td>\n",
              "      <td>18.418250</td>\n",
              "      <td>49.268820</td>\n",
              "      <td>34.073763</td>\n",
              "    </tr>\n",
              "    <tr>\n",
              "      <th>603</th>\n",
              "      <td>12.823866</td>\n",
              "      <td>11.235583</td>\n",
              "      <td>6.089601</td>\n",
              "      <td>6.507910</td>\n",
              "      <td>8.127875</td>\n",
              "      <td>5.446977</td>\n",
              "      <td>5.239635</td>\n",
              "      <td>4.863718</td>\n",
              "      <td>3.305472</td>\n",
              "      <td>3.033990</td>\n",
              "      <td>...</td>\n",
              "      <td>75.514827</td>\n",
              "      <td>13.813688</td>\n",
              "      <td>40.059695</td>\n",
              "      <td>117.416346</td>\n",
              "      <td>36.376045</td>\n",
              "      <td>9.209125</td>\n",
              "      <td>34.073763</td>\n",
              "      <td>35.455132</td>\n",
              "      <td>0.000000</td>\n",
              "      <td>34.994676</td>\n",
              "    </tr>\n",
              "    <tr>\n",
              "      <th>604</th>\n",
              "      <td>12.051686</td>\n",
              "      <td>12.353474</td>\n",
              "      <td>6.105186</td>\n",
              "      <td>7.580065</td>\n",
              "      <td>6.115161</td>\n",
              "      <td>3.014990</td>\n",
              "      <td>3.522249</td>\n",
              "      <td>3.240183</td>\n",
              "      <td>2.259330</td>\n",
              "      <td>1.758064</td>\n",
              "      <td>...</td>\n",
              "      <td>76.896195</td>\n",
              "      <td>72.291633</td>\n",
              "      <td>85.644864</td>\n",
              "      <td>89.328515</td>\n",
              "      <td>87.486689</td>\n",
              "      <td>87.947146</td>\n",
              "      <td>103.602659</td>\n",
              "      <td>98.537640</td>\n",
              "      <td>101.300377</td>\n",
              "      <td>65.384789</td>\n",
              "    </tr>\n",
              "  </tbody>\n",
              "</table>\n",
              "<p>605 rows × 1812 columns</p>\n",
              "</div>"
            ],
            "text/plain": [
              "           0          1          2          3          4          5    \\\n",
              "0    17.109115  13.438069  12.504368   8.551738   9.301532   5.311810   \n",
              "1    19.270512  12.856454   9.681304  10.179863   9.709584   4.806846   \n",
              "2    21.454579  19.777035   3.062511  12.500656   8.730260   7.338805   \n",
              "3    10.741812   6.559285   3.654752  12.249704   8.562959   4.055011   \n",
              "4    29.993197  28.995738  11.915669  16.411829  16.168018  10.699109   \n",
              "..         ...        ...        ...        ...        ...        ...   \n",
              "600  15.566170  11.475738   4.748557   9.480565  10.130387   7.039397   \n",
              "601   8.614419   5.059554   4.540989   5.305179   5.376588   4.411546   \n",
              "602   8.564830   9.888163   4.481482   7.538750   8.734341   4.476324   \n",
              "603  12.823866  11.235583   6.089601   6.507910   8.127875   5.446977   \n",
              "604  12.051686  12.353474   6.105186   7.580065   6.115161   3.014990   \n",
              "\n",
              "          6         7         8         9    ...         890         891  \\\n",
              "0    3.334290  3.671953  1.964258  1.172383  ...   18.878707   51.110645   \n",
              "1    4.132541  3.756624  2.552872  1.979560  ...   84.723952   84.723952   \n",
              "2    4.313104  3.346532  2.637542  2.292484  ...   33.152851    1.381369   \n",
              "3    5.851968  5.213877  1.779614  2.847179  ...   65.845245   73.212545   \n",
              "4    5.608667  5.460748  4.190178  2.509261  ...  116.955890  117.416346   \n",
              "..        ...       ...       ...       ...  ...         ...         ...   \n",
              "600  4.841275  6.146020  3.881844  2.603241  ...   85.184408    4.604563   \n",
              "601  3.283029  5.305944  2.601583  1.948828  ...   53.873382   56.636120   \n",
              "602  4.354419  4.645666  2.861461  2.592402  ...   23.022813   98.998096   \n",
              "603  5.239635  4.863718  3.305472  3.033990  ...   75.514827   13.813688   \n",
              "604  3.522249  3.240183  2.259330  1.758064  ...   76.896195   72.291633   \n",
              "\n",
              "            892         893         894         895         896        897  \\\n",
              "0     30.850569   35.455132   12.432319  116.495434   22.562357  34.073763   \n",
              "1     84.723952   84.723952   84.723952   85.644864   59.859314  23.483269   \n",
              "2     54.794295    5.065019    2.762738    0.460456    0.000000   0.000000   \n",
              "3     71.831177   71.370720   72.291633   73.673002   71.370720  67.226614   \n",
              "4      0.920913    1.381369    1.381369   59.398858   56.175664  57.096576   \n",
              "..          ...         ...         ...         ...         ...        ...   \n",
              "600   31.771482   29.929657    4.604563   66.305701   61.240683  65.845245   \n",
              "601   93.933077  110.049046  111.890871   41.441063   29.469201  55.254751   \n",
              "602  107.286309   75.054370   65.845245   21.641444    1.841825  18.418250   \n",
              "603   40.059695  117.416346   36.376045    9.209125   34.073763  35.455132   \n",
              "604   85.644864   89.328515   87.486689   87.947146  103.602659  98.537640   \n",
              "\n",
              "            898         899  \n",
              "0     26.706463  115.114065  \n",
              "1      0.460456    0.000000  \n",
              "2      0.000000    0.000000  \n",
              "3     38.217870   49.729276  \n",
              "4      0.000000    0.000000  \n",
              "..          ...         ...  \n",
              "600   82.421671  113.272240  \n",
              "601   18.878707   61.240683  \n",
              "602   49.268820   34.073763  \n",
              "603    0.000000   34.994676  \n",
              "604  101.300377   65.384789  \n",
              "\n",
              "[605 rows x 1812 columns]"
            ]
          },
          "execution_count": 138,
          "metadata": {},
          "output_type": "execute_result"
        }
      ],
      "source": [
        "df"
      ]
    },
    {
      "cell_type": "code",
      "execution_count": 139,
      "metadata": {},
      "outputs": [
        {
          "name": "stdout",
          "output_type": "stream",
          "text": [
            "Splitted Successfully\n"
          ]
        }
      ],
      "source": [
        "x=df.iloc[:,:-1]\n",
        "y = y\n",
        "x_train,x_test,y_train,y_test=train_test_split(x,y,test_size=0.20,random_state=77,stratify=y)\n",
        "print('Splitted Successfully')"
      ]
    },
    {
      "cell_type": "code",
      "execution_count": 142,
      "metadata": {},
      "outputs": [
        {
          "name": "stdout",
          "output_type": "stream",
          "text": [
            "The training of the model is started, please wait for while as it may take few minutes to complete\n",
            "The Model is trained well with the given images\n"
          ]
        },
        {
          "data": {
            "text/plain": [
              "{'C': 0.1, 'gamma': 0.0001, 'kernel': 'poly'}"
            ]
          },
          "execution_count": 142,
          "metadata": {},
          "output_type": "execute_result"
        }
      ],
      "source": [
        "param_grid={'C':[0.1,1,10,100],'gamma':[0.0001,0.001,0.1,1],'kernel':['rbf','poly']}\n",
        "svc=svm.SVC(probability=True)\n",
        "print(\"The training of the model is started, please wait for while as it may take few minutes to complete\")\n",
        "model=GridSearchCV(svc,param_grid)\n",
        "model.fit(x_train,y_train)\n",
        "print('The Model is trained well with the given images')\n",
        "model.best_params_"
      ]
    },
    {
      "cell_type": "code",
      "execution_count": 143,
      "metadata": {},
      "outputs": [
        {
          "name": "stdout",
          "output_type": "stream",
          "text": [
            "The predicted Data is :\n"
          ]
        },
        {
          "data": {
            "text/plain": [
              "array([2, 4, 4, 7, 7, 3, 7, 2, 3, 9, 9, 4, 4, 3, 8, 3, 3, 6, 3, 9, 9, 9,\n",
              "       4, 9, 8, 3, 2, 3, 3, 3, 7, 5, 3, 4, 3, 9, 7, 4, 9, 8, 7, 9, 3, 3,\n",
              "       8, 3, 7, 7, 0, 7, 5, 3, 6, 7, 9, 3, 7, 0, 7, 3, 8, 9, 4, 8, 3, 7,\n",
              "       9, 3, 9, 2, 9, 9, 5, 8, 7, 4, 9, 8, 9, 9, 9, 9, 8, 8, 8, 7, 7, 2,\n",
              "       3, 9, 9, 7, 0, 5, 3, 0, 9, 0, 3, 9, 7, 2, 2, 9, 9, 6, 9, 6, 0, 4,\n",
              "       4, 3, 7, 7, 6, 0, 6, 3, 6, 9, 6])"
            ]
          },
          "execution_count": 143,
          "metadata": {},
          "output_type": "execute_result"
        }
      ],
      "source": [
        "y_pred=model.predict(x_test)\n",
        "print(\"The predicted Data is :\")\n",
        "y_pred"
      ]
    },
    {
      "cell_type": "code",
      "execution_count": 144,
      "metadata": {},
      "outputs": [
        {
          "name": "stdout",
          "output_type": "stream",
          "text": [
            "The actual data is:\n"
          ]
        },
        {
          "data": {
            "text/plain": [
              "array([0, 3, 3, 4, 9, 1, 8, 0, 5, 7, 9, 4, 4, 8, 2, 3, 3, 9, 0, 2, 2, 1,\n",
              "       4, 5, 7, 7, 2, 5, 6, 3, 6, 1, 1, 4, 7, 8, 9, 4, 7, 6, 6, 9, 3, 7,\n",
              "       1, 5, 7, 3, 5, 1, 2, 8, 7, 8, 1, 3, 5, 2, 3, 4, 4, 6, 2, 8, 3, 2,\n",
              "       3, 8, 9, 9, 8, 8, 5, 3, 4, 2, 3, 8, 6, 1, 9, 7, 0, 8, 8, 5, 6, 2,\n",
              "       3, 7, 5, 9, 9, 9, 6, 3, 1, 0, 3, 0, 7, 9, 0, 2, 6, 6, 7, 0, 8, 4,\n",
              "       4, 4, 9, 3, 9, 5, 5, 7, 6, 9, 6])"
            ]
          },
          "execution_count": 144,
          "metadata": {},
          "output_type": "execute_result"
        }
      ],
      "source": [
        "print(\"The actual data is:\")\n",
        "np.array(y_test)"
      ]
    },
    {
      "cell_type": "code",
      "execution_count": 145,
      "metadata": {},
      "outputs": [
        {
          "name": "stdout",
          "output_type": "stream",
          "text": [
            "The model is 27.27272727272727% accurate\n"
          ]
        }
      ],
      "source": [
        "#classification_report(y_pred,y_test)\n",
        "print(f\"The model is {accuracy_score(y_pred,y_test)*100}% accurate\")\n",
        "#confusion_matrix(y_pred,y_test)"
      ]
    },
    {
      "cell_type": "code",
      "execution_count": 146,
      "metadata": {},
      "outputs": [
        {
          "data": {
            "text/plain": [
              "array([[ 6.13549932, -0.24556434,  9.23645671, ...,  5.11608529,\n",
              "         4.10587355,  8.22624484],\n",
              "       [ 3.9314745 , -0.23484891,  2.83286448, ...,  4.88081313,\n",
              "         7.17557191,  8.22380027],\n",
              "       [-0.25816341,  4.94357092,  0.78778745, ...,  7.20118026,\n",
              "         1.78462939,  6.11131587],\n",
              "       ...,\n",
              "       [ 1.80696671,  2.85981259, -0.22920407, ...,  8.19730436,\n",
              "         7.1560444 ,  6.12883064],\n",
              "       [ 2.85789924,  1.83387512, -0.23218932, ...,  5.08582543,\n",
              "         7.1933376 ,  9.21206511],\n",
              "       [ 3.91713831,  0.83006932,  2.91005687, ...,  7.15247478,\n",
              "         6.15165321,  8.17703824]])"
            ]
          },
          "execution_count": 146,
          "metadata": {},
          "output_type": "execute_result"
        }
      ],
      "source": [
        "decision_scores = model.decision_function(x_test)\n",
        "decision_scores_arr.append(('Corr', decision_scores))\n",
        "decision_scores\n"
      ]
    },
    {
      "cell_type": "code",
      "execution_count": 147,
      "metadata": {},
      "outputs": [
        {
          "name": "stdout",
          "output_type": "stream",
          "text": [
            "The model is 80.16528925619835% accurate for k= 5\n"
          ]
        }
      ],
      "source": [
        "\n",
        "top_k_predict = top_k_accuracy_score(y_test, decision_scores, k=k)\n",
        "print(f\"The model is {top_k_predict*100}% accurate for k= {k}\")\n"
      ]
    }
  ],
  "metadata": {
    "colab": {
      "authorship_tag": "ABX9TyNXoByyuzJc8pEa+Ia/zOiv",
      "include_colab_link": true,
      "mount_file_id": "1f0XtS7FMhgrj2FnqPssOI3tsovKoVeXM",
      "name": "Shanmukh-Classification.ipynb",
      "provenance": [],
      "toc_visible": true
    },
    "kernelspec": {
      "display_name": "Python 3",
      "name": "python3"
    },
    "language_info": {
      "codemirror_mode": {
        "name": "ipython",
        "version": 3
      },
      "file_extension": ".py",
      "mimetype": "text/x-python",
      "name": "python",
      "nbconvert_exporter": "python",
      "pygments_lexer": "ipython3",
      "version": "3.12.2"
    }
  },
  "nbformat": 4,
  "nbformat_minor": 0
}
